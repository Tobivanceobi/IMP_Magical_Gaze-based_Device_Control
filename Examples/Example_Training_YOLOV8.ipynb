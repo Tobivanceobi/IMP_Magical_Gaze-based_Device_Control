{
 "cells": [
  {
   "metadata": {},
   "cell_type": "code",
   "source": [
    "import os\n",
    "import glob\n",
    "import shutil\n",
    "import random\n",
    "\n",
    "# Define your original dataset directory and the new structure\n",
    "original_dataset_dir = '../.local/datasets/IoT_ObjectDetection'  # Path to your original dataset folder\n",
    "new_dataset_dir = '../.local/datasets/IoT_ObjectDetection_Yolo'  # Path to the new structured dataset"
   ],
   "id": "e00bd5be433555fb",
   "outputs": [],
   "execution_count": null
  },
  {
   "metadata": {},
   "cell_type": "code",
   "source": [
    "# Create new directories for train and validation\n",
    "os.makedirs(os.path.join(new_dataset_dir, 'train', 'images'), exist_ok=True)\n",
    "os.makedirs(os.path.join(new_dataset_dir, 'train', 'labels'), exist_ok=True)\n",
    "os.makedirs(os.path.join(new_dataset_dir, 'val', 'images'), exist_ok=True)\n",
    "os.makedirs(os.path.join(new_dataset_dir, 'val', 'labels'), exist_ok=True)\n",
    "\n",
    "# Collect all class folders\n",
    "class_folders = [d for d in os.listdir(original_dataset_dir) if os.path.isdir(os.path.join(original_dataset_dir, d))]\n",
    "class_folders.sort()  # Sort class folders to maintain consistent class index\n",
    "\n",
    "# Create a mapping from class name to class index\n",
    "class_mapping = {class_name: idx for idx, class_name in enumerate(class_folders)}\n",
    "\n",
    "for class_name in class_folders:\n",
    "    class_folder = os.path.join(original_dataset_dir, class_name)\n",
    "    image_files = glob.glob(os.path.join(class_folder, '*.jpg'))\n",
    "\n",
    "    # Randomly sample 10 images for validation\n",
    "    val_samples = random.sample(image_files, min(10, len(image_files)))\n",
    "\n",
    "    for img_path in image_files:\n",
    "        # Get the base name without extension\n",
    "        base_name = os.path.splitext(os.path.basename(img_path))[0]\n",
    "\n",
    "        # Move the image to the train images folder if it's not in the validation sample\n",
    "        if img_path not in val_samples:\n",
    "            new_img_path = os.path.join(new_dataset_dir, 'train', 'images', os.path.basename(img_path))\n",
    "            shutil.copy(img_path, new_img_path)\n",
    "\n",
    "            # Move the corresponding label file\n",
    "            label_file = os.path.join(class_folder, f\"{base_name}.txt\")\n",
    "            if os.path.exists(label_file):\n",
    "                new_label_path = os.path.join(new_dataset_dir, 'train', 'labels', f\"{base_name}.txt\")\n",
    "                with open(label_file, 'r') as f:\n",
    "                    with open(new_label_path, 'w') as f_out:\n",
    "                        # Adjust the class index in the label file\n",
    "                        for line in f.readlines():\n",
    "                            parts = line.strip().split()\n",
    "                            if len(parts) > 0:\n",
    "                                # Replace the original class index with the correct index from the mapping\n",
    "                                original_class_index = parts[0]\n",
    "                                new_class_index = class_mapping[class_name]\n",
    "                                # Write in YOLO format (new_class_index x_center y_center width height)\n",
    "                                f_out.write(f\"{new_class_index} {' '.join(parts[1:])}\\n\")\n",
    "\n",
    "        else:\n",
    "            # Move the selected validation image\n",
    "            new_img_path = os.path.join(new_dataset_dir, 'val', 'images', os.path.basename(img_path))\n",
    "            shutil.copy(img_path, new_img_path)\n",
    "\n",
    "            # Move the corresponding validation label file\n",
    "            label_file = os.path.join(class_folder, f\"{base_name}.txt\")\n",
    "            if os.path.exists(label_file):\n",
    "                new_label_path = os.path.join(new_dataset_dir, 'val', 'labels', f\"{base_name}.txt\")\n",
    "                with open(label_file, 'r') as f:\n",
    "                    with open(new_label_path, 'w') as f_out:\n",
    "                        # Adjust the class index in the label file\n",
    "                        for line in f.readlines():\n",
    "                            parts = line.strip().split()\n",
    "                            if len(parts) > 0:\n",
    "                                # Replace the original class index with the correct index from the mapping\n",
    "                                original_class_index = parts[0]\n",
    "                                new_class_index = class_mapping[class_name]\n",
    "                                # Write in YOLO format (new_class_index x_center y_center width height)\n",
    "                                f_out.write(f\"{new_class_index} {' '.join(parts[1:])}\\n\")\n",
    "\n",
    "print(\"Dataset reorganized with random samples for validation and class indices adjusted!\")"
   ],
   "id": "9c90c3cfc0c75e55",
   "outputs": [],
   "execution_count": null
  },
  {
   "cell_type": "code",
   "id": "initial_id",
   "metadata": {
    "collapsed": true
   },
   "source": [
    "import yaml\n",
    "\n",
    "# Get class names from the folders in the original dataset directory\n",
    "classes = [d for d in os.listdir(original_dataset_dir) if os.path.isdir(os.path.join(original_dataset_dir, d))]\n",
    "classes.sort()\n",
    "\n",
    "data_dict = {\n",
    "    'train': \"IoT_ObjectDetection_Yolo/train\",\n",
    "    'val': \"IoT_ObjectDetection_Yolo/val\",\n",
    "    'nc': len(classes),\n",
    "    'names': classes,\n",
    "}\n",
    "\n",
    "dataset_yaml_path = 'data.yaml'\n",
    "# Save the YAML file\n",
    "with open(dataset_yaml_path, 'w') as f:\n",
    "    yaml.dump(data_dict, f)\n",
    "\n",
    "print(\"data.yaml file created!\")"
   ],
   "outputs": [],
   "execution_count": null
  },
  {
   "metadata": {},
   "cell_type": "code",
   "source": [
    "from ultralytics import YOLO\n",
    "\n",
    "# Load the YOLOv8 model\n",
    "model = YOLO('yolov8s.pt')  # Change to the desired model variant\n",
    "\n",
    "# Train the model\n",
    "model.train(data=dataset_yaml_path, epochs=50, imgsz=640, batch=16)  # Adjust parameters as needed\n",
    "\n",
    "print(\"Training completed!\")"
   ],
   "id": "39ceb12732a68e4d",
   "outputs": [],
   "execution_count": null
  },
  {
   "metadata": {},
   "cell_type": "code",
   "source": [
    "# Save the trained model\n",
    "model.save('yolov8s_trained.pt')"
   ],
   "id": "8c01f809a684f81d",
   "outputs": [],
   "execution_count": null
  },
  {
   "metadata": {},
   "cell_type": "code",
   "source": [
    "from ultralytics import YOLO\n",
    "\n",
    "model = YOLO('yolov8s_trained.pt')\n",
    "# Perform validation\n",
    "results = model.val(data='data.yaml', save_json=True)  # Validate and save results in JSON format"
   ],
   "id": "8365233826987776",
   "outputs": [],
   "execution_count": null
  },
  {
   "metadata": {
    "ExecuteTime": {
     "end_time": "2024-10-24T12:10:36.084484Z",
     "start_time": "2024-10-24T12:10:06.167964Z"
    }
   },
   "cell_type": "code",
   "source": [
    "import os\n",
    "import glob\n",
    "import yaml\n",
    "from ultralytics import YOLO\n",
    "import cv2\n",
    "import matplotlib.pyplot as plt\n",
    "\n",
    "# Load the YOLOv8 model\n",
    "model = YOLO('yolov8s_trained.pt')\n",
    "\n",
    "dataset_dir = \"/home/tobias/Desktop/Uni/IMP/datasets/\"\n",
    "\n",
    "# predict on the validation set and visualize the results\n",
    "with open('data.yaml') as f:\n",
    "    data = yaml.load(f, Loader=yaml.FullLoader)\n",
    "print(data['val'])\n",
    "val_images = glob.glob(os.path.join(dataset_dir, data['val'], 'images', '*.jpg'))\n",
    "\n",
    "for img_path in val_images:\n",
    "    results = model(img_path)\n",
    "    # Process results list\n",
    "    for result in results:\n",
    "        boxes = result.boxes  # Boxes object for bounding box outputs\n",
    "        masks = result.masks  # Masks object for segmentation masks outputs\n",
    "        keypoints = result.keypoints  # Keypoints object for pose outputs\n",
    "        probs = result.probs  # Probs object for classification outputs\n",
    "        obb = result.obb  # Oriented boxes object for OBB outputs\n",
    "        result.show()  # display to screen\n",
    "    "
   ],
   "id": "a74e7ec85ec4f85b",
   "outputs": [
    {
     "name": "stdout",
     "output_type": "stream",
     "text": [
      "IoT_ObjectDetection_Yolo/val\n",
      "\n",
      "image 1/1 /home/tobias/Desktop/Uni/IMP/datasets/IoT_ObjectDetection_Yolo/val/images/P1011441.jpg: 480x640 1 DeskLamp, 9.4ms\n",
      "Speed: 2.2ms preprocess, 9.4ms inference, 1.3ms postprocess per image at shape (1, 3, 480, 640)\n",
      "\n",
      "image 1/1 /home/tobias/Desktop/Uni/IMP/datasets/IoT_ObjectDetection_Yolo/val/images/Tractorbot_69 (2).jpg: 640x384 2 Tractorbots, 10.4ms\n",
      "Speed: 2.3ms preprocess, 10.4ms inference, 1.4ms postprocess per image at shape (1, 3, 640, 384)\n",
      "Opening in existing browser session.\n",
      "\n",
      "image 1/1 /home/tobias/Desktop/Uni/IMP/datasets/IoT_ObjectDetection_Yolo/val/images/P1011378.jpg: 480x640 1 DeskLamp, 12.4ms\n",
      "Speed: 3.2ms preprocess, 12.4ms inference, 1.7ms postprocess per image at shape (1, 3, 480, 640)\n",
      "Opening in existing browser session.\n",
      "\n",
      "image 1/1 /home/tobias/Desktop/Uni/IMP/datasets/IoT_ObjectDetection_Yolo/val/images/P1011115.jpg: 480x640 1 OfficeDoor, 8.9ms\n",
      "Opening in existing browser session.\n",
      "Speed: 2.8ms preprocess, 8.9ms inference, 1.6ms postprocess per image at shape (1, 3, 480, 640)\n",
      "\n",
      "image 1/1 /home/tobias/Desktop/Uni/IMP/datasets/IoT_ObjectDetection_Yolo/val/images/P1000473.jpg: 480x640 1 Leubot, 10.7ms\n",
      "Speed: 2.3ms preprocess, 10.7ms inference, 1.3ms postprocess per image at shape (1, 3, 480, 640)\n",
      "Opening in existing browser session.\n",
      "\n",
      "image 1/1 /home/tobias/Desktop/Uni/IMP/datasets/IoT_ObjectDetection_Yolo/val/images/P1000756.jpg: 480x640 1 DeskBulb, 11.2ms\n",
      "Speed: 2.7ms preprocess, 11.2ms inference, 1.5ms postprocess per image at shape (1, 3, 480, 640)\n",
      "Opening in existing browser session.\n",
      "\n",
      "image 1/1 /home/tobias/Desktop/Uni/IMP/datasets/IoT_ObjectDetection_Yolo/val/images/P1000334.jpg: 480x640 2 Leubots, 11.1ms\n",
      "Speed: 2.8ms preprocess, 11.1ms inference, 1.8ms postprocess per image at shape (1, 3, 480, 640)\n",
      "Opening in existing browser session.\n",
      "\n",
      "image 1/1 /home/tobias/Desktop/Uni/IMP/datasets/IoT_ObjectDetection_Yolo/val/images/P1033464.jpg: 512x640 3 OfficeWindows, 12.2ms\n",
      "Opening in existing browser session.\n",
      "Speed: 3.0ms preprocess, 12.2ms inference, 1.8ms postprocess per image at shape (1, 3, 512, 640)\n"
     ]
    },
    {
     "name": "stderr",
     "output_type": "stream",
     "text": [
      "\n",
      "KeyboardInterrupt\n",
      "\n"
     ]
    }
   ],
   "execution_count": 32
  },
  {
   "metadata": {},
   "cell_type": "code",
   "source": "",
   "id": "fcd65f05faff9543",
   "outputs": [],
   "execution_count": null
  }
 ],
 "metadata": {
  "kernelspec": {
   "display_name": "Python 3",
   "language": "python",
   "name": "python3"
  },
  "language_info": {
   "codemirror_mode": {
    "name": "ipython",
    "version": 2
   },
   "file_extension": ".py",
   "mimetype": "text/x-python",
   "name": "python",
   "nbconvert_exporter": "python",
   "pygments_lexer": "ipython2",
   "version": "2.7.6"
  }
 },
 "nbformat": 4,
 "nbformat_minor": 5
}
