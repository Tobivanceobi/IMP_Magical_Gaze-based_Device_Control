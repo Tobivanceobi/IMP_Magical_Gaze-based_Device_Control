{
 "cells": [
  {
   "cell_type": "code",
   "id": "initial_id",
   "metadata": {
    "collapsed": true,
    "ExecuteTime": {
     "end_time": "2024-09-23T14:57:42.597675Z",
     "start_time": "2024-09-23T14:57:36.031963Z"
    }
   },
   "source": [
    "from sympy.physics.units import current\n",
    "from torchmetrics.functional import accuracy\n",
    "\n",
    "\n",
    "class Config:\n",
    "    DATASET_PATH = \"../../Eye_Gaze_Models/RawGazeData/\"\n",
    "    \n",
    "conf = Config()"
   ],
   "outputs": [],
   "execution_count": 1
  },
  {
   "metadata": {
    "ExecuteTime": {
     "end_time": "2024-09-23T14:57:42.822234Z",
     "start_time": "2024-09-23T14:57:42.635331Z"
    }
   },
   "cell_type": "code",
   "source": [
    "from sklearn.preprocessing import StandardScaler\n",
    "import os\n",
    "import numpy as np\n",
    "import pandas as pd\n",
    "from torch.utils.data import Dataset\n",
    "\n",
    "class GazeDataset(Dataset):\n",
    "    CLASS_MAP = {\n",
    "        'Inspection': 0,\n",
    "        'Reading': 1,\n",
    "        'Search': 2,\n",
    "    }\n",
    "    def __init__(self, data_files, selected_cols, seq_len, transform=None, interpolation_method='linear'):\n",
    "        self.data_files = data_files\n",
    "        self.selected_cols = selected_cols\n",
    "        self.seq_len = seq_len\n",
    "        self.transform = transform\n",
    "        self.interpolation_method = interpolation_method\n",
    "        \n",
    "        self.data = []\n",
    "        self.labels = []\n",
    "        self.participant_ids = []\n",
    "        \n",
    "        for file in self.data_files:\n",
    "            participant_id = file.split('/')[-1].split('_')[0]\n",
    "            label = file.split('/')[-1].split('_')[1].split('.')[0]\n",
    "            \n",
    "            data = self.load_single_file(file)\n",
    "            data = self.interpolate_data(data)\n",
    "            sequences = self.split_data_into_sequences(data)\n",
    "            \n",
    "            sequences = np.array(sequences).astype(np.float32)\n",
    "            \n",
    "            self.data.extend(sequences)  # Append sequences to the dataset\n",
    "            self.labels.extend([int(self.CLASS_MAP[label])] * len(sequences))\n",
    "            self.participant_ids.extend([int(participant_id)] * len(sequences))\n",
    "            \n",
    "        self.data = np.array(self.data)\n",
    "        self.labels = np.array(self.labels)\n",
    "        self.participant_ids = np.array(self.participant_ids)\n",
    "        \n",
    "    def load_single_file(self, file):\n",
    "        data = pd.read_csv(file)\n",
    "        data = data[self.selected_cols]\n",
    "        return data\n",
    "    \n",
    "    def interpolate_data(self, data):\n",
    "        # Interpolate missing values using the specified method\n",
    "        data_interpolated = data.interpolate(method=self.interpolation_method, limit_direction='both')\n",
    "        # Fill any remaining NaNs using forward fill and backward fill\n",
    "        data_interpolated = data_interpolated.bfill().ffill()\n",
    "        return data_interpolated.values\n",
    "    \n",
    "    def split_data_into_sequences(self, data):\n",
    "        # split the data into sequences of length seq_len.\n",
    "        sequences = [data[i:i + self.seq_len] for i in range(0, len(data), self.seq_len)]\n",
    "        # remove the last sequence if it is not of length seq_len\n",
    "        if len(sequences[-1]) != self.seq_len:\n",
    "            sequences.pop()\n",
    "        return sequences\n",
    "\n",
    "    def __len__(self):\n",
    "        return len(self.data)\n",
    "\n",
    "    def __getitem__(self, idx):\n",
    "        sample = self.data[idx]\n",
    "        label = self.labels[idx]\n",
    "        \n",
    "        if self.transform:\n",
    "            sample = self.transform(sample)\n",
    "        \n",
    "        return sample, label\n"
   ],
   "id": "163ab3d7fe65747e",
   "outputs": [],
   "execution_count": 2
  },
  {
   "metadata": {
    "ExecuteTime": {
     "end_time": "2024-09-23T14:57:45.216194Z",
     "start_time": "2024-09-23T14:57:43.175201Z"
    }
   },
   "cell_type": "code",
   "source": [
    "import torch\n",
    "import torch.nn as nn\n",
    "import pytorch_lightning as pl\n",
    "from torch.utils.data import DataLoader\n",
    "import torch.optim as optim\n",
    "from torchmetrics import Accuracy\n",
    "\n",
    "# Define the PyTorch Lightning Module\n",
    "class GazeRNN(pl.LightningModule):\n",
    "    def __init__(self, \n",
    "                 input_size, \n",
    "                 hidden_size, \n",
    "                 num_layers, \n",
    "                 num_classes, \n",
    "                 rnn_type='LSTM',\n",
    "                 dropout=0,\n",
    "                 learning_rate=0.001,\n",
    "                 opt_step_size=5,\n",
    "                 opt_gamma=0.1):\n",
    "        super(GazeRNN, self).__init__()\n",
    "        self.hidden_size = hidden_size\n",
    "        self.num_layers = num_layers\n",
    "        self.learning_rate = learning_rate\n",
    "        self.opt_step_size = opt_step_size\n",
    "        self.opt_gamma = opt_gamma\n",
    "\n",
    "        # Choose between LSTM, GRU, or vanilla RNN\n",
    "        if rnn_type == 'LSTM':\n",
    "            self.rnn = nn.LSTM(input_size, hidden_size, num_layers, batch_first=True, dropout=dropout)\n",
    "        elif rnn_type == 'GRU':\n",
    "            self.rnn = nn.GRU(input_size, hidden_size, num_layers, batch_first=True)\n",
    "        else:\n",
    "            self.rnn = nn.RNN(input_size, hidden_size, num_layers, batch_first=True)\n",
    "\n",
    "        # Fully connected layer for classification\n",
    "        self.fc = nn.Linear(hidden_size, num_classes)\n",
    "\n",
    "        # Loss function\n",
    "        self.criterion = nn.CrossEntropyLoss()\n",
    "\n",
    "        # Accuracy metric\n",
    "        self.train_acc = Accuracy(task=\"multiclass\", num_classes=num_classes)\n",
    "        self.val_acc = Accuracy(task=\"multiclass\", num_classes=num_classes)\n",
    "\n",
    "    def forward(self, x):\n",
    "        h0 = torch.zeros(self.num_layers, x.size(0), self.hidden_size).to(x.device)\n",
    "        if isinstance(self.rnn, nn.LSTM):\n",
    "            c0 = torch.zeros(self.num_layers, x.size(0), self.hidden_size).to(x.device)\n",
    "            out, _ = self.rnn(x, (h0, c0))\n",
    "        else:\n",
    "            out, _ = self.rnn(x, h0)\n",
    "\n",
    "        # Take the last time-step's output\n",
    "        out = out[:, -1, :]\n",
    "        out = self.fc(out)\n",
    "        return out\n",
    "\n",
    "    def training_step(self, batch, batch_idx):\n",
    "        inputs, labels = batch\n",
    "        outputs = self(inputs)\n",
    "        loss = self.criterion(outputs, labels)\n",
    "        acc = self.train_acc(outputs, labels)\n",
    "        self.log('train_loss', loss, on_step=True, on_epoch=True, prog_bar=True)\n",
    "        self.log('train_acc', acc, on_step=True, on_epoch=True, prog_bar=True)\n",
    "        return loss\n",
    "\n",
    "    def validation_step(self, batch, batch_idx):\n",
    "        inputs, labels = batch\n",
    "        outputs = self(inputs)\n",
    "        loss = self.criterion(outputs, labels)\n",
    "        acc = self.val_acc(outputs, labels)\n",
    "        self.log('val_loss', loss, on_step=True, on_epoch=True, prog_bar=True)\n",
    "        self.log('val_acc', acc, on_step=False, on_epoch=True, prog_bar=True)\n",
    "        self.log('lr', self.trainer.optimizers[0].param_groups[0]['lr'], on_epoch=True, prog_bar=True)\n",
    "        return loss\n",
    "\n",
    "    def configure_optimizers(self):\n",
    "        optimizer = optim.Adam(self.parameters(), lr=self.learning_rate)\n",
    "        scheduler = optim.lr_scheduler.StepLR(optimizer, step_size=self.opt_step_size, gamma=self.opt_gamma)\n",
    "        return [optimizer], [scheduler]\n"
   ],
   "id": "1bfe2f64538f2043",
   "outputs": [],
   "execution_count": 3
  },
  {
   "metadata": {
    "ExecuteTime": {
     "end_time": "2024-09-23T14:57:45.365532Z",
     "start_time": "2024-09-23T14:57:45.256380Z"
    }
   },
   "cell_type": "code",
   "source": [
    "import os\n",
    "import pytorch_lightning as pl\n",
    "from torch.utils.data import DataLoader\n",
    "from sklearn.model_selection import train_test_split\n",
    "\n",
    "class GazeDataModule(pl.LightningDataModule):\n",
    "    def __init__(self, ds_train, ds_val, batch_size=64, num_workers=4):\n",
    "        super(GazeDataModule, self).__init__()\n",
    "        self.ds_train = ds_train\n",
    "        self.ds_val = ds_val\n",
    "        self.batch_size = batch_size\n",
    "        self.num_workers = num_workers\n",
    "\n",
    "    def train_dataloader(self):\n",
    "        return DataLoader(self.ds_train, batch_size=self.batch_size, shuffle=True, num_workers=self.num_workers)\n",
    "\n",
    "    def val_dataloader(self):\n",
    "        return DataLoader(self.ds_val, batch_size=self.batch_size, shuffle=False, num_workers=self.num_workers)\n"
   ],
   "id": "2a5857d37f02b6cc",
   "outputs": [],
   "execution_count": 4
  },
  {
   "metadata": {
    "ExecuteTime": {
     "end_time": "2024-09-23T15:26:15.301810Z",
     "start_time": "2024-09-23T15:26:12.793631Z"
    }
   },
   "cell_type": "code",
   "source": [
    "import pickle\n",
    "\n",
    "col_of_interest = [\n",
    "    # 'gazeOrigin_x', 'gazeOrigin_y', 'gazeOrigin_z', \n",
    "    # 'gazeDirection_x', 'gazeDirection_y', 'gazeDirection_z', \n",
    "    'gazePoint_x', 'gazePoint_y', 'gazePoint_z', \n",
    "    # 'gazePoint_target_x', 'gazePoint_target_y', 'gazePoint_target_z',\n",
    "    # 'gazePoint_target_pos_x', 'gazePoint_target_pos_y', 'gazePoint_target_pos_z',\n",
    "    # 'gazePoint_target_rot_x', 'gazePoint_target_rot_y', 'gazePoint_target_rot_z',\n",
    "    # 'gazePointMonoScreen_x', 'gazePointMonoScreen_y', 'gazePointMonoScreen_z',\n",
    "    # 'gazePoint_target_scale_x', 'gazePoint_target_scale_y', 'gazePoint_target_scale_z', \n",
    "    # 'gazePointLeftScreen_x', 'gazePointLeftScreen_y', 'gazePointLeftScreen_z', \n",
    "    # 'gazePointRightScreen_x', 'gazePointRightScreen_y', 'gazePointRightScreen_z'\n",
    "]\n",
    "\n",
    "dir_files = os.listdir(conf.DATASET_PATH)\n",
    "test_participants = ['01', '02', '03', '04', '05']\n",
    "train_files = [os.path.join(conf.DATASET_PATH, f) for f in dir_files if f.split('_')[0] not in test_participants]\n",
    "test_files = [os.path.join(conf.DATASET_PATH, f) for f in dir_files if f.split('_')[0] in test_participants]\n",
    "\n",
    "train_ds = GazeDataset(train_files, col_of_interest, 60)\n",
    "test_ds = GazeDataset(test_files, col_of_interest, 60)\n",
    "\n",
    "scaler = StandardScaler()\n",
    "all_data = np.concatenate([train_ds.data, test_ds.data])\n",
    "scaler.fit(all_data.reshape(-1, all_data.shape[-1]))\n",
    "\n",
    "with open('.local/scaler.pickle', 'wb') as f:\n",
    "    pickle.dump(scaler, f)\n",
    "\n",
    "train_ds.data = scaler.transform(train_ds.data.reshape(-1, train_ds.data.shape[-1])).reshape(train_ds.data.shape)\n",
    "test_ds.data = scaler.transform(test_ds.data.reshape(-1, test_ds.data.shape[-1])).reshape(test_ds.data.shape)\n",
    "\n",
    "print(f\"Number of samples in train dataset: {len(train_ds)}\")\n",
    "print(f\"Number of samples in test dataset: {len(test_ds)}\")\n",
    "print(f\"shape of each sample: {train_ds[0][0].shape}\")"
   ],
   "id": "4b6e04a8f806e5de",
   "outputs": [
    {
     "name": "stdout",
     "output_type": "stream",
     "text": [
      "Number of samples in train dataset: 1526\n",
      "Number of samples in test dataset: 492\n",
      "shape of each sample: (60, 3)\n"
     ]
    }
   ],
   "execution_count": 64
  },
  {
   "metadata": {
    "ExecuteTime": {
     "end_time": "2024-09-23T15:27:53.082707Z",
     "start_time": "2024-09-23T15:26:57.923804Z"
    }
   },
   "cell_type": "code",
   "source": [
    "from pytorch_lightning.loggers import TensorBoardLogger\n",
    "from datetime import datetime\n",
    "from pytorch_lightning.callbacks.progress.rich_progress import RichProgressBarTheme\n",
    "from pytorch_lightning.callbacks import RichProgressBar\n",
    "\n",
    "# Hyperparameters\n",
    "INPUT_SIZE = len(col_of_interest)\n",
    "HIDDEN_SIZE = 32\n",
    "NUM_LAYERS = 2\n",
    "NUM_CLASSES = 3\n",
    "LEARNING_RATE = 0.001\n",
    "MODEL_TYPE = 'LSTM'\n",
    "DROPOUT = 0.3\n",
    "\n",
    "BATCH_SIZE = 64\n",
    "NUM_WORKERS = 4\n",
    "\n",
    "NUM_EPOCHS = 50\n",
    "OPT_STEP_SIZE = 10\n",
    "OPT_GAMMA = 0.9\n",
    "\n",
    "\n",
    "# Initialize the DataModule\n",
    "data_module = GazeDataModule(\n",
    "    train_ds, test_ds,\n",
    "    batch_size=BATCH_SIZE,\n",
    "    num_workers=NUM_WORKERS\n",
    ")\n",
    "\n",
    "# Initialize the model\n",
    "model = GazeRNN(\n",
    "    input_size=len(col_of_interest),\n",
    "    hidden_size=HIDDEN_SIZE, \n",
    "    num_layers=NUM_LAYERS,\n",
    "    num_classes=NUM_CLASSES, \n",
    "    learning_rate=LEARNING_RATE,\n",
    "    rnn_type=MODEL_TYPE,\n",
    "    opt_step_size=OPT_STEP_SIZE,\n",
    "    opt_gamma=OPT_GAMMA,\n",
    "    dropout=DROPOUT\n",
    ")\n",
    "\n",
    "# Checkpoint callback\n",
    "current_time = datetime.now().strftime('%Y-%m-%d_%H-%M')\n",
    "checkpoint_callback = pl.callbacks.ModelCheckpoint(\n",
    "    monitor='val_loss',\n",
    "    dirpath=f'checkpoints/{MODEL_TYPE}/{current_time}',\n",
    "    filename='gaze_rnn-{epoch:02d}-{val_loss:.2f}',\n",
    "    save_top_k=1,\n",
    "    mode='min',\n",
    ")\n",
    "\n",
    "# Initialize PyTorch Lightning trainer\n",
    "trainer = pl.Trainer(\n",
    "    max_epochs=NUM_EPOCHS, \n",
    "    accelerator='gpu', \n",
    "    enable_progress_bar=True,\n",
    "    logger=False,\n",
    "    enable_checkpointing=True,\n",
    "    callbacks=[checkpoint_callback]\n",
    ")\n",
    "\n",
    "# Train the model\n",
    "trainer.fit(model, data_module)"
   ],
   "id": "c18083b810a2d156",
   "outputs": [
    {
     "name": "stderr",
     "output_type": "stream",
     "text": [
      "GPU available: True (cuda), used: True\n",
      "TPU available: False, using: 0 TPU cores\n",
      "HPU available: False, using: 0 HPUs\n",
      "/home/tobias/Desktop/Uni/IMP/IMP_Magical_Gaze-based_Device_Control/.venv/lib/python3.10/site-packages/pytorch_lightning/callbacks/model_checkpoint.py:654: Checkpoint directory /home/tobias/Desktop/Uni/IMP/IMP_Magical_Gaze-based_Device_Control/checkpoints/LSTM/2024-09-23_17-26 exists and is not empty.\n",
      "LOCAL_RANK: 0 - CUDA_VISIBLE_DEVICES: [0]\n",
      "\n",
      "  | Name      | Type               | Params | Mode \n",
      "---------------------------------------------------------\n",
      "0 | rnn       | LSTM               | 13.2 K | train\n",
      "1 | fc        | Linear             | 99     | train\n",
      "2 | criterion | CrossEntropyLoss   | 0      | train\n",
      "3 | train_acc | MulticlassAccuracy | 0      | train\n",
      "4 | val_acc   | MulticlassAccuracy | 0      | train\n",
      "---------------------------------------------------------\n",
      "13.3 K    Trainable params\n",
      "0         Non-trainable params\n",
      "13.3 K    Total params\n",
      "0.053     Total estimated model params size (MB)\n",
      "5         Modules in train mode\n",
      "0         Modules in eval mode\n"
     ]
    },
    {
     "data": {
      "text/plain": [
       "Sanity Checking: |          | 0/? [00:00<?, ?it/s]"
      ],
      "application/vnd.jupyter.widget-view+json": {
       "version_major": 2,
       "version_minor": 0,
       "model_id": "3aa88cd89ddb4a6cb44835479aa36841"
      }
     },
     "metadata": {},
     "output_type": "display_data"
    },
    {
     "data": {
      "text/plain": [
       "Training: |          | 0/? [00:00<?, ?it/s]"
      ],
      "application/vnd.jupyter.widget-view+json": {
       "version_major": 2,
       "version_minor": 0,
       "model_id": "7fd3a4175c1d4cb5b741bc93b71c3f6c"
      }
     },
     "metadata": {},
     "output_type": "display_data"
    },
    {
     "data": {
      "text/plain": [
       "Validation: |          | 0/? [00:00<?, ?it/s]"
      ],
      "application/vnd.jupyter.widget-view+json": {
       "version_major": 2,
       "version_minor": 0,
       "model_id": "06f87bc0d7b94000b66394e443a33370"
      }
     },
     "metadata": {},
     "output_type": "display_data"
    },
    {
     "data": {
      "text/plain": [
       "Validation: |          | 0/? [00:00<?, ?it/s]"
      ],
      "application/vnd.jupyter.widget-view+json": {
       "version_major": 2,
       "version_minor": 0,
       "model_id": "a4176cdd9ec941b082702753335040e7"
      }
     },
     "metadata": {},
     "output_type": "display_data"
    },
    {
     "data": {
      "text/plain": [
       "Validation: |          | 0/? [00:00<?, ?it/s]"
      ],
      "application/vnd.jupyter.widget-view+json": {
       "version_major": 2,
       "version_minor": 0,
       "model_id": "c25482c5f75d407796f9932b8470243a"
      }
     },
     "metadata": {},
     "output_type": "display_data"
    },
    {
     "data": {
      "text/plain": [
       "Validation: |          | 0/? [00:00<?, ?it/s]"
      ],
      "application/vnd.jupyter.widget-view+json": {
       "version_major": 2,
       "version_minor": 0,
       "model_id": "ffa049df73b3400880dc27306f338e27"
      }
     },
     "metadata": {},
     "output_type": "display_data"
    },
    {
     "data": {
      "text/plain": [
       "Validation: |          | 0/? [00:00<?, ?it/s]"
      ],
      "application/vnd.jupyter.widget-view+json": {
       "version_major": 2,
       "version_minor": 0,
       "model_id": "e5950baa01584de6b363d34205d8f491"
      }
     },
     "metadata": {},
     "output_type": "display_data"
    },
    {
     "data": {
      "text/plain": [
       "Validation: |          | 0/? [00:00<?, ?it/s]"
      ],
      "application/vnd.jupyter.widget-view+json": {
       "version_major": 2,
       "version_minor": 0,
       "model_id": "66e9388ea093401297759076d247a1ff"
      }
     },
     "metadata": {},
     "output_type": "display_data"
    },
    {
     "data": {
      "text/plain": [
       "Validation: |          | 0/? [00:00<?, ?it/s]"
      ],
      "application/vnd.jupyter.widget-view+json": {
       "version_major": 2,
       "version_minor": 0,
       "model_id": "db3bdb5d23bd4cca8be7160c7ef747f2"
      }
     },
     "metadata": {},
     "output_type": "display_data"
    },
    {
     "data": {
      "text/plain": [
       "Validation: |          | 0/? [00:00<?, ?it/s]"
      ],
      "application/vnd.jupyter.widget-view+json": {
       "version_major": 2,
       "version_minor": 0,
       "model_id": "2e86da37a16e4dcebc0a37e769eaf8ef"
      }
     },
     "metadata": {},
     "output_type": "display_data"
    },
    {
     "data": {
      "text/plain": [
       "Validation: |          | 0/? [00:00<?, ?it/s]"
      ],
      "application/vnd.jupyter.widget-view+json": {
       "version_major": 2,
       "version_minor": 0,
       "model_id": "59558a2e0b9b4e85823f5c4f0dc9b5b1"
      }
     },
     "metadata": {},
     "output_type": "display_data"
    },
    {
     "data": {
      "text/plain": [
       "Validation: |          | 0/? [00:00<?, ?it/s]"
      ],
      "application/vnd.jupyter.widget-view+json": {
       "version_major": 2,
       "version_minor": 0,
       "model_id": "f60da7b3c24747eb9425cd5ec97d8c5d"
      }
     },
     "metadata": {},
     "output_type": "display_data"
    },
    {
     "data": {
      "text/plain": [
       "Validation: |          | 0/? [00:00<?, ?it/s]"
      ],
      "application/vnd.jupyter.widget-view+json": {
       "version_major": 2,
       "version_minor": 0,
       "model_id": "a7ae6c5dcf924c558100a97dbbbcbe90"
      }
     },
     "metadata": {},
     "output_type": "display_data"
    },
    {
     "data": {
      "text/plain": [
       "Validation: |          | 0/? [00:00<?, ?it/s]"
      ],
      "application/vnd.jupyter.widget-view+json": {
       "version_major": 2,
       "version_minor": 0,
       "model_id": "cfb7eacc33474b8c81feed937cec1702"
      }
     },
     "metadata": {},
     "output_type": "display_data"
    },
    {
     "data": {
      "text/plain": [
       "Validation: |          | 0/? [00:00<?, ?it/s]"
      ],
      "application/vnd.jupyter.widget-view+json": {
       "version_major": 2,
       "version_minor": 0,
       "model_id": "45a8a2d41df3439981fe14aeb93a5cff"
      }
     },
     "metadata": {},
     "output_type": "display_data"
    },
    {
     "data": {
      "text/plain": [
       "Validation: |          | 0/? [00:00<?, ?it/s]"
      ],
      "application/vnd.jupyter.widget-view+json": {
       "version_major": 2,
       "version_minor": 0,
       "model_id": "48ab64de160746b695583a708b1e89d7"
      }
     },
     "metadata": {},
     "output_type": "display_data"
    },
    {
     "data": {
      "text/plain": [
       "Validation: |          | 0/? [00:00<?, ?it/s]"
      ],
      "application/vnd.jupyter.widget-view+json": {
       "version_major": 2,
       "version_minor": 0,
       "model_id": "6d685634db4441db913c87ee75350e37"
      }
     },
     "metadata": {},
     "output_type": "display_data"
    },
    {
     "data": {
      "text/plain": [
       "Validation: |          | 0/? [00:00<?, ?it/s]"
      ],
      "application/vnd.jupyter.widget-view+json": {
       "version_major": 2,
       "version_minor": 0,
       "model_id": "c56867835a5d4b969742eb0e509a738d"
      }
     },
     "metadata": {},
     "output_type": "display_data"
    },
    {
     "data": {
      "text/plain": [
       "Validation: |          | 0/? [00:00<?, ?it/s]"
      ],
      "application/vnd.jupyter.widget-view+json": {
       "version_major": 2,
       "version_minor": 0,
       "model_id": "d9b11ac86d024258b0f530f43a46c490"
      }
     },
     "metadata": {},
     "output_type": "display_data"
    },
    {
     "data": {
      "text/plain": [
       "Validation: |          | 0/? [00:00<?, ?it/s]"
      ],
      "application/vnd.jupyter.widget-view+json": {
       "version_major": 2,
       "version_minor": 0,
       "model_id": "4cc220306f624f20b0f1ceb4dbb8804c"
      }
     },
     "metadata": {},
     "output_type": "display_data"
    },
    {
     "data": {
      "text/plain": [
       "Validation: |          | 0/? [00:00<?, ?it/s]"
      ],
      "application/vnd.jupyter.widget-view+json": {
       "version_major": 2,
       "version_minor": 0,
       "model_id": "5f82a186b75146d19f3a613871f7352a"
      }
     },
     "metadata": {},
     "output_type": "display_data"
    },
    {
     "data": {
      "text/plain": [
       "Validation: |          | 0/? [00:00<?, ?it/s]"
      ],
      "application/vnd.jupyter.widget-view+json": {
       "version_major": 2,
       "version_minor": 0,
       "model_id": "d4d7689a18a9477ea8040d5857018776"
      }
     },
     "metadata": {},
     "output_type": "display_data"
    },
    {
     "data": {
      "text/plain": [
       "Validation: |          | 0/? [00:00<?, ?it/s]"
      ],
      "application/vnd.jupyter.widget-view+json": {
       "version_major": 2,
       "version_minor": 0,
       "model_id": "020670a107e343edb40fcd3bf7749bf5"
      }
     },
     "metadata": {},
     "output_type": "display_data"
    },
    {
     "data": {
      "text/plain": [
       "Validation: |          | 0/? [00:00<?, ?it/s]"
      ],
      "application/vnd.jupyter.widget-view+json": {
       "version_major": 2,
       "version_minor": 0,
       "model_id": "95385693774149deacfe1d75dd68753a"
      }
     },
     "metadata": {},
     "output_type": "display_data"
    },
    {
     "data": {
      "text/plain": [
       "Validation: |          | 0/? [00:00<?, ?it/s]"
      ],
      "application/vnd.jupyter.widget-view+json": {
       "version_major": 2,
       "version_minor": 0,
       "model_id": "80df1ddfc2914f349292588c6d46ffb0"
      }
     },
     "metadata": {},
     "output_type": "display_data"
    },
    {
     "data": {
      "text/plain": [
       "Validation: |          | 0/? [00:00<?, ?it/s]"
      ],
      "application/vnd.jupyter.widget-view+json": {
       "version_major": 2,
       "version_minor": 0,
       "model_id": "d8a2950d7ccf41b5b61244cc56f19516"
      }
     },
     "metadata": {},
     "output_type": "display_data"
    },
    {
     "data": {
      "text/plain": [
       "Validation: |          | 0/? [00:00<?, ?it/s]"
      ],
      "application/vnd.jupyter.widget-view+json": {
       "version_major": 2,
       "version_minor": 0,
       "model_id": "e5725297164a4bdaac1a2663776e0842"
      }
     },
     "metadata": {},
     "output_type": "display_data"
    },
    {
     "data": {
      "text/plain": [
       "Validation: |          | 0/? [00:00<?, ?it/s]"
      ],
      "application/vnd.jupyter.widget-view+json": {
       "version_major": 2,
       "version_minor": 0,
       "model_id": "c6272151598c4ef28a24630e8d116469"
      }
     },
     "metadata": {},
     "output_type": "display_data"
    },
    {
     "data": {
      "text/plain": [
       "Validation: |          | 0/? [00:00<?, ?it/s]"
      ],
      "application/vnd.jupyter.widget-view+json": {
       "version_major": 2,
       "version_minor": 0,
       "model_id": "9f4c54cb2e314c9c9787eb1cbe58fc96"
      }
     },
     "metadata": {},
     "output_type": "display_data"
    },
    {
     "data": {
      "text/plain": [
       "Validation: |          | 0/? [00:00<?, ?it/s]"
      ],
      "application/vnd.jupyter.widget-view+json": {
       "version_major": 2,
       "version_minor": 0,
       "model_id": "dc57e0dd856c4588889ee8f806079700"
      }
     },
     "metadata": {},
     "output_type": "display_data"
    },
    {
     "data": {
      "text/plain": [
       "Validation: |          | 0/? [00:00<?, ?it/s]"
      ],
      "application/vnd.jupyter.widget-view+json": {
       "version_major": 2,
       "version_minor": 0,
       "model_id": "7887b30fcdb64d9e814c53697d676b18"
      }
     },
     "metadata": {},
     "output_type": "display_data"
    },
    {
     "data": {
      "text/plain": [
       "Validation: |          | 0/? [00:00<?, ?it/s]"
      ],
      "application/vnd.jupyter.widget-view+json": {
       "version_major": 2,
       "version_minor": 0,
       "model_id": "2903107b62fb4457947da4494f311d20"
      }
     },
     "metadata": {},
     "output_type": "display_data"
    },
    {
     "data": {
      "text/plain": [
       "Validation: |          | 0/? [00:00<?, ?it/s]"
      ],
      "application/vnd.jupyter.widget-view+json": {
       "version_major": 2,
       "version_minor": 0,
       "model_id": "12aef409dd1c4485b8141fa54df9157f"
      }
     },
     "metadata": {},
     "output_type": "display_data"
    },
    {
     "data": {
      "text/plain": [
       "Validation: |          | 0/? [00:00<?, ?it/s]"
      ],
      "application/vnd.jupyter.widget-view+json": {
       "version_major": 2,
       "version_minor": 0,
       "model_id": "728e4bb7c8014b9f9f36c91a4d95e373"
      }
     },
     "metadata": {},
     "output_type": "display_data"
    },
    {
     "data": {
      "text/plain": [
       "Validation: |          | 0/? [00:00<?, ?it/s]"
      ],
      "application/vnd.jupyter.widget-view+json": {
       "version_major": 2,
       "version_minor": 0,
       "model_id": "d67b749507934d3fb373f28507627a39"
      }
     },
     "metadata": {},
     "output_type": "display_data"
    },
    {
     "data": {
      "text/plain": [
       "Validation: |          | 0/? [00:00<?, ?it/s]"
      ],
      "application/vnd.jupyter.widget-view+json": {
       "version_major": 2,
       "version_minor": 0,
       "model_id": "2cd40cfb48884f25a53d42775f47bbed"
      }
     },
     "metadata": {},
     "output_type": "display_data"
    },
    {
     "data": {
      "text/plain": [
       "Validation: |          | 0/? [00:00<?, ?it/s]"
      ],
      "application/vnd.jupyter.widget-view+json": {
       "version_major": 2,
       "version_minor": 0,
       "model_id": "3e96b06c8f634d1e8850281a926752ed"
      }
     },
     "metadata": {},
     "output_type": "display_data"
    },
    {
     "data": {
      "text/plain": [
       "Validation: |          | 0/? [00:00<?, ?it/s]"
      ],
      "application/vnd.jupyter.widget-view+json": {
       "version_major": 2,
       "version_minor": 0,
       "model_id": "5c5b4436eb134625ae205b56de0cd8ce"
      }
     },
     "metadata": {},
     "output_type": "display_data"
    },
    {
     "data": {
      "text/plain": [
       "Validation: |          | 0/? [00:00<?, ?it/s]"
      ],
      "application/vnd.jupyter.widget-view+json": {
       "version_major": 2,
       "version_minor": 0,
       "model_id": "74c2a26ad6074fb38dfcb059cd583a7d"
      }
     },
     "metadata": {},
     "output_type": "display_data"
    },
    {
     "data": {
      "text/plain": [
       "Validation: |          | 0/? [00:00<?, ?it/s]"
      ],
      "application/vnd.jupyter.widget-view+json": {
       "version_major": 2,
       "version_minor": 0,
       "model_id": "2cad987097ac4a739bef541b1e3aebd4"
      }
     },
     "metadata": {},
     "output_type": "display_data"
    },
    {
     "data": {
      "text/plain": [
       "Validation: |          | 0/? [00:00<?, ?it/s]"
      ],
      "application/vnd.jupyter.widget-view+json": {
       "version_major": 2,
       "version_minor": 0,
       "model_id": "ebeebe65a83d4471bea8711931a16195"
      }
     },
     "metadata": {},
     "output_type": "display_data"
    },
    {
     "data": {
      "text/plain": [
       "Validation: |          | 0/? [00:00<?, ?it/s]"
      ],
      "application/vnd.jupyter.widget-view+json": {
       "version_major": 2,
       "version_minor": 0,
       "model_id": "a07ce4eabf094a629337480a68c6f721"
      }
     },
     "metadata": {},
     "output_type": "display_data"
    },
    {
     "data": {
      "text/plain": [
       "Validation: |          | 0/? [00:00<?, ?it/s]"
      ],
      "application/vnd.jupyter.widget-view+json": {
       "version_major": 2,
       "version_minor": 0,
       "model_id": "3a5d1e81c0d642039be4f6928a12a244"
      }
     },
     "metadata": {},
     "output_type": "display_data"
    },
    {
     "data": {
      "text/plain": [
       "Validation: |          | 0/? [00:00<?, ?it/s]"
      ],
      "application/vnd.jupyter.widget-view+json": {
       "version_major": 2,
       "version_minor": 0,
       "model_id": "36f9d39e9309420e9ed43b0ea6743c05"
      }
     },
     "metadata": {},
     "output_type": "display_data"
    },
    {
     "data": {
      "text/plain": [
       "Validation: |          | 0/? [00:00<?, ?it/s]"
      ],
      "application/vnd.jupyter.widget-view+json": {
       "version_major": 2,
       "version_minor": 0,
       "model_id": "1dbd2fd8b9c04ee0bc7f1e96f2ea0c7c"
      }
     },
     "metadata": {},
     "output_type": "display_data"
    },
    {
     "data": {
      "text/plain": [
       "Validation: |          | 0/? [00:00<?, ?it/s]"
      ],
      "application/vnd.jupyter.widget-view+json": {
       "version_major": 2,
       "version_minor": 0,
       "model_id": "f01732f5fa3349e09f4fe5f91ff06286"
      }
     },
     "metadata": {},
     "output_type": "display_data"
    },
    {
     "data": {
      "text/plain": [
       "Validation: |          | 0/? [00:00<?, ?it/s]"
      ],
      "application/vnd.jupyter.widget-view+json": {
       "version_major": 2,
       "version_minor": 0,
       "model_id": "833e92d49d2943929418e82480f612d8"
      }
     },
     "metadata": {},
     "output_type": "display_data"
    },
    {
     "data": {
      "text/plain": [
       "Validation: |          | 0/? [00:00<?, ?it/s]"
      ],
      "application/vnd.jupyter.widget-view+json": {
       "version_major": 2,
       "version_minor": 0,
       "model_id": "7dd23996c1b3412598bd3922dad83819"
      }
     },
     "metadata": {},
     "output_type": "display_data"
    },
    {
     "data": {
      "text/plain": [
       "Validation: |          | 0/? [00:00<?, ?it/s]"
      ],
      "application/vnd.jupyter.widget-view+json": {
       "version_major": 2,
       "version_minor": 0,
       "model_id": "d0ec4cc9f06d4678ac3b780bb8f5ee62"
      }
     },
     "metadata": {},
     "output_type": "display_data"
    },
    {
     "data": {
      "text/plain": [
       "Validation: |          | 0/? [00:00<?, ?it/s]"
      ],
      "application/vnd.jupyter.widget-view+json": {
       "version_major": 2,
       "version_minor": 0,
       "model_id": "9f439e686c574ff89ff33ccb35d5a0f8"
      }
     },
     "metadata": {},
     "output_type": "display_data"
    },
    {
     "data": {
      "text/plain": [
       "Validation: |          | 0/? [00:00<?, ?it/s]"
      ],
      "application/vnd.jupyter.widget-view+json": {
       "version_major": 2,
       "version_minor": 0,
       "model_id": "03a7c979f594450a9ed6190427abfb20"
      }
     },
     "metadata": {},
     "output_type": "display_data"
    },
    {
     "data": {
      "text/plain": [
       "Validation: |          | 0/? [00:00<?, ?it/s]"
      ],
      "application/vnd.jupyter.widget-view+json": {
       "version_major": 2,
       "version_minor": 0,
       "model_id": "b2871516389c477c950f3896311201b9"
      }
     },
     "metadata": {},
     "output_type": "display_data"
    },
    {
     "name": "stderr",
     "output_type": "stream",
     "text": [
      "`Trainer.fit` stopped: `max_epochs=50` reached.\n"
     ]
    }
   ],
   "execution_count": 66
  },
  {
   "metadata": {
    "ExecuteTime": {
     "end_time": "2024-09-23T15:27:55.142623Z",
     "start_time": "2024-09-23T15:27:54.879605Z"
    }
   },
   "cell_type": "code",
   "source": [
    "# Load the best model from the checkpoint\n",
    "best_model = GazeRNN.load_from_checkpoint(\n",
    "    checkpoint_callback.best_model_path,\n",
    "    input_size=INPUT_SIZE,\n",
    "    hidden_size=HIDDEN_SIZE,\n",
    "    num_layers=NUM_LAYERS,\n",
    "    num_classes=NUM_CLASSES,\n",
    "    rnn_type=MODEL_TYPE,\n",
    "    dropout=DROPOUT,\n",
    "    learning_rate=LEARNING_RATE,\n",
    "    opt_step_size=OPT_STEP_SIZE,\n",
    "    opt_gamma=OPT_GAMMA\n",
    ")\n",
    "\n",
    "# Predict on the validation set and set device to GPU\n",
    "device = torch.device('cuda' if torch.cuda.is_available() else 'cpu')\n",
    "best_model.to(device)\n",
    "best_model.eval()\n",
    "\n",
    "# Initialize the DataLoader for the validation set\n",
    "val_loader = data_module.val_dataloader()\n",
    "\n",
    "# Predict on the validation set\n",
    "y_true = []\n",
    "y_pred = []\n",
    "for inputs, labels in val_loader:\n",
    "    inputs = inputs.to(device)\n",
    "    labels = labels.to(device)\n",
    "    outputs = best_model(inputs)\n",
    "    _, predicted = torch.max(outputs, 1)\n",
    "    y_true.extend(labels.cpu().numpy())\n",
    "    y_pred.extend(predicted.cpu().numpy())\n",
    "    \n",
    "# Calculate the accuracy\n",
    "accuracy = np.mean(np.array(y_true) == np.array(y_pred))\n",
    "print(f\"Validation Accuracy: {accuracy}\")"
   ],
   "id": "5885d90115cd851b",
   "outputs": [
    {
     "name": "stdout",
     "output_type": "stream",
     "text": [
      "Validation Accuracy: 0.8191056910569106\n"
     ]
    }
   ],
   "execution_count": 67
  },
  {
   "metadata": {
    "ExecuteTime": {
     "end_time": "2024-09-23T15:27:56.806816Z",
     "start_time": "2024-09-23T15:27:56.305928Z"
    }
   },
   "cell_type": "code",
   "source": [
    "# Plot the confusion matrix\n",
    "import matplotlib.pyplot as plt\n",
    "from sklearn.metrics import confusion_matrix, accuracy_score\n",
    "import seaborn as sns\n",
    "\n",
    "cm = confusion_matrix(y_true, y_pred)\n",
    "plt.figure(figsize=(8, 6))\n",
    "sns.heatmap(cm, annot=True, fmt='d', xticklabels=GazeDataset.CLASS_MAP.keys(), yticklabels=GazeDataset.CLASS_MAP.keys(), cmap='Blues')\n",
    "plt.xlabel('Predicted')\n",
    "plt.ylabel('True')\n",
    "plt.title('Confusion Matrix')\n",
    "plt.show()"
   ],
   "id": "20bc6b132cb9c6ab",
   "outputs": [
    {
     "data": {
      "text/plain": [
       "<Figure size 800x600 with 2 Axes>"
      ],
      "image/png": "[encoded data removed]"
     },
     "metadata": {},
     "output_type": "display_data"
    }
   ],
   "execution_count": 68
  },
  {
   "metadata": {
    "ExecuteTime": {
     "end_time": "2024-09-23T15:27:58.264252Z",
     "start_time": "2024-09-23T15:27:58.241269Z"
    }
   },
   "cell_type": "code",
   "source": [
    "import pandas as pd\n",
    "import zmq\n",
    "import cv2\n",
    "import numpy as np\n",
    "from PIL import Image\n",
    "import msgpack\n",
    "\n",
    "\n",
    "class PupilCapture:\n",
    "\n",
    "    def __init__(self, ip='localhost', port=50020):\n",
    "        self.ctx = zmq.Context()\n",
    "        # The REQ talks to Pupil remote and receives the session unique IPC SUB PORT\n",
    "        self.pupil_remote = self.ctx.socket(zmq.REQ)\n",
    "        self.ip = ip\n",
    "\n",
    "        self.pupil_remote.connect(f'tcp://{self.ip}:{port}')\n",
    "\n",
    "        # Request 'SUB_PORT' for reading data\n",
    "        self.pupil_remote.send_string('SUB_PORT')\n",
    "        self.sub_port = self.pupil_remote.recv_string()\n",
    "\n",
    "        # Request 'PUB_PORT' for writing data\n",
    "        self.pupil_remote.send_string('PUB_PORT')\n",
    "        self.pub_port = self.pupil_remote.recv_string()\n",
    "\n",
    "\n",
    "\n",
    "    def receive_frame_world_image(self, num_frames=1):\n",
    "        sub_frame_world = self.ctx.socket(zmq.SUB)\n",
    "        sub_frame_world.connect(f'tcp://{self.ip}:{self.sub_port}')\n",
    "        sub_frame_world.subscribe(\"frame.world\")\n",
    "\n",
    "        frames = []\n",
    "        for _ in range(num_frames):\n",
    "            frame = sub_frame_world.recv_multipart()\n",
    "            image_bytes = frame[2]\n",
    "            decoded_frame = cv2.imdecode(np.frombuffer(image_bytes, dtype=np.uint8), cv2.IMREAD_COLOR)\n",
    "            rgb_frame = cv2.cvtColor(decoded_frame, cv2.COLOR_BGR2RGB)\n",
    "            img = Image.fromarray(rgb_frame)\n",
    "            frames.append(img)\n",
    "        return frames\n",
    "\n",
    "    def receive_gaze_3d_position(self, num_gazes=1):\n",
    "        subscriber = self.ctx.socket(zmq.SUB)\n",
    "        subscriber.connect(f'tcp://{self.ip}:{self.sub_port}')\n",
    "        subscriber.subscribe('gaze.')  # receive all gaze messages\n",
    "\n",
    "        gazes = []\n",
    "        for _ in range(num_gazes):\n",
    "            topic, payload = subscriber.recv_multipart()\n",
    "            message = msgpack.loads(payload)\n",
    "            gaze = message['gaze_point_3d'.encode()]\n",
    "            gazes.append(gaze)\n",
    "        return gazes"
   ],
   "id": "7c30defb8c8a73b3",
   "outputs": [],
   "execution_count": 69
  },
  {
   "metadata": {
    "ExecuteTime": {
     "end_time": "2024-09-23T15:33:11.027059Z",
     "start_time": "2024-09-23T15:33:04.614645Z"
    }
   },
   "cell_type": "code",
   "source": [
    "pupil_cap = PupilCapture()\n",
    "\n",
    "for i in range(20):\n",
    "    gaze_sample = pupil_cap.receive_gaze_3d_position(60)\n",
    "    gaze_sample = np.array(gaze_sample)\n",
    "    # downsample from 120 Hz to 30 Hz\n",
    "    scaler_1 = StandardScaler()\n",
    "    # scale column wise\n",
    "    gaze_sample = scaler_1.fit_transform(gaze_sample.reshape(-1, gaze_sample.shape[-1])).reshape(gaze_sample.shape)\n",
    "    gaze_sample = torch.tensor(gaze_sample, dtype=torch.float32).unsqueeze(0)\n",
    "    \n",
    "    best_model.eval()\n",
    "    with torch.no_grad():\n",
    "        gaze_sample = gaze_sample.to(device)\n",
    "        outputs = best_model(gaze_sample)\n",
    "        _, predicted = torch.max(outputs, 1)\n",
    "    predicted_class = list(GazeDataset.CLASS_MAP.keys())[predicted.item()]\n",
    "    print(f\"Predicted class: {predicted_class}\")"
   ],
   "id": "8ea8cf0dac37f9fc",
   "outputs": [
    {
     "name": "stdout",
     "output_type": "stream",
     "text": [
      "Predicted class: Search\n",
      "Predicted class: Inspection\n",
      "Predicted class: Inspection\n",
      "Predicted class: Inspection\n",
      "Predicted class: Inspection\n",
      "Predicted class: Reading\n",
      "Predicted class: Reading\n",
      "Predicted class: Search\n",
      "Predicted class: Reading\n",
      "Predicted class: Reading\n",
      "Predicted class: Reading\n",
      "Predicted class: Reading\n",
      "Predicted class: Search\n",
      "Predicted class: Search\n",
      "Predicted class: Search\n",
      "Predicted class: Search\n",
      "Predicted class: Search\n",
      "Predicted class: Search\n",
      "Predicted class: Search\n",
      "Predicted class: Search\n"
     ]
    }
   ],
   "execution_count": 83
  },
  {
   "metadata": {
    "ExecuteTime": {
     "end_time": "2024-09-23T15:30:33.810891Z",
     "start_time": "2024-09-23T15:30:33.804748Z"
    }
   },
   "cell_type": "code",
   "source": "",
   "id": "7fba58fa4c948473",
   "outputs": [],
   "execution_count": null
  },
  {
   "metadata": {},
   "cell_type": "code",
   "outputs": [],
   "execution_count": null,
   "source": "",
   "id": "e67297573fed6648"
  }
 ],
 "metadata": {
  "kernelspec": {
   "display_name": "Python 3",
   "language": "python",
   "name": "python3"
  },
  "language_info": {
   "codemirror_mode": {
    "name": "ipython",
    "version": 2
   },
   "file_extension": ".py",
   "mimetype": "text/x-python",
   "name": "python",
   "nbconvert_exporter": "python",
   "pygments_lexer": "ipython2",
   "version": "2.7.6"
  }
 },
 "nbformat": 4,
 "nbformat_minor": 5
}
