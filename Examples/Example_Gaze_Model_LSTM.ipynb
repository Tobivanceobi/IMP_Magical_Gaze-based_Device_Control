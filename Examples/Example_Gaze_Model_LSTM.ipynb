{
 "cells": [
  {
   "cell_type": "code",
   "execution_count": 6,
   "id": "initial_id",
   "metadata": {
    "ExecuteTime": {
     "end_time": "2024-09-23T14:57:42.597675Z",
     "start_time": "2024-09-23T14:57:36.031963Z"
    },
    "collapsed": true
   },
   "outputs": [],
   "source": [
    "class Config:\n",
    "    DATASET_PATH = \"../.local/datasets/PupilCoreV1_all/\"\n",
    "    \n",
    "conf = Config()"
   ]
  },
  {
   "cell_type": "code",
   "execution_count": 7,
   "id": "163ab3d7fe65747e",
   "metadata": {
    "ExecuteTime": {
     "end_time": "2024-09-23T14:57:42.822234Z",
     "start_time": "2024-09-23T14:57:42.635331Z"
    }
   },
   "outputs": [],
   "source": [
    "from sklearn.preprocessing import StandardScaler\n",
    "import os\n",
    "import numpy as np\n",
    "import pandas as pd\n",
    "from torch.utils.data import Dataset\n",
    "\n",
    "class GazeDataset(Dataset):\n",
    "    CLASS_MAP = {\n",
    "        'Inspection': 0,\n",
    "        'Reading': 1,\n",
    "        'Search': 2,\n",
    "    }\n",
    "    def __init__(self, \n",
    "                 data_files, \n",
    "                 selected_cols, \n",
    "                 seq_len, \n",
    "                 transform=None,\n",
    "                 min_confidence=0.8,\n",
    "                 interpolation_method='linear'):\n",
    "        self.data_files = data_files\n",
    "        self.selected_cols = selected_cols\n",
    "        self.seq_len = seq_len\n",
    "        self.transform = transform\n",
    "        self.interpolation_method = interpolation_method\n",
    "        self.min_confidence = min_confidence\n",
    "        \n",
    "        self.data = []\n",
    "        self.labels = []\n",
    "        self.participant_ids = []\n",
    "        \n",
    "        for file in self.data_files:\n",
    "            participant_id = file.split('/')[-1].split('_')[0]\n",
    "            label = file.split('/')[-1].split('_')[1].split('.')[0]\n",
    "            \n",
    "            sample = self.load_single_file(file)\n",
    "            # sample = self.set_low_confidence_data_to_nan(sample)\n",
    "            # sample = self.remove_low_confidence_data(sample)\n",
    "            # sample = self.clip_data(sample)\n",
    "            sample = self.interpolate_data(sample)\n",
    "            sample = self.drop_nan_rows(sample)\n",
    "            sequences = self.split_data_into_sequences(sample)\n",
    "            \n",
    "            sequences = np.array(sequences).astype(np.float32)\n",
    "            \n",
    "            self.data.extend(sequences)  # Append sequences to the dataset\n",
    "            self.labels.extend([int(self.CLASS_MAP[label])] * len(sequences))\n",
    "            self.participant_ids.extend([int(participant_id)] * len(sequences))\n",
    "            \n",
    "        self.data = np.array(self.data)\n",
    "        self.labels = np.array(self.labels)\n",
    "        self.participant_ids = np.array(self.participant_ids)\n",
    "        \n",
    "    def load_single_file(self, file: str):\n",
    "        raw_data = pd.read_csv(file)\n",
    "        raw_data = raw_data[self.selected_cols]\n",
    "        return raw_data\n",
    "    \n",
    "    def remove_low_confidence_data(self, df: pd.DataFrame):\n",
    "        low_confidence_data = df[df['confidence'] <= self.min_confidence]\n",
    "        print(f\"Removed {len(low_confidence_data)} low confidence data points\")\n",
    "        return df[df['confidence'] > self.min_confidence]\n",
    "    \n",
    "    def set_low_confidence_data_to_nan(self, df: pd.DataFrame):\n",
    "        df.loc[df['confidence'] <= self.min_confidence, ['norm_pos_x', 'norm_pos_y']] = np.nan\n",
    "        return df\n",
    "    \n",
    "    def clip_data(self, df: pd.DataFrame):\n",
    "        start = int(len(df) * 0.02)\n",
    "        end = int(len(df) * 0.98)\n",
    "        return df[start:end]\n",
    "    \n",
    "    def drop_nan_rows(self, df: pd.DataFrame):\n",
    "        return df.dropna()\n",
    "    \n",
    "    def interpolate_data(self, df: pd.DataFrame):\n",
    "        # Replave inf values with NaN\n",
    "        df = df.replace([np.inf, -np.inf], np.nan)\n",
    "        # Interpolate the NaN values\n",
    "        df = df.interpolate(method=self.interpolation_method)\n",
    "        return df\n",
    "    \n",
    "    def split_data_into_sequences(self, arr: np.ndarray):\n",
    "        # split the data into sequences of length seq_len.\n",
    "        sequences = [arr[i:i + self.seq_len] for i in range(0, len(arr), self.seq_len)]\n",
    "        # remove the last sequence if it is not of length seq_len\n",
    "        if len(sequences[-1]) != self.seq_len:\n",
    "            sequences.pop()\n",
    "        return sequences\n",
    "\n",
    "    def __len__(self):\n",
    "        return len(self.data)\n",
    "\n",
    "    def __getitem__(self, idx):\n",
    "        sample = self.data[idx]\n",
    "        label = self.labels[idx]\n",
    "        \n",
    "        if self.transform:\n",
    "            sample = self.transform(sample)\n",
    "        \n",
    "        return sample, label\n"
   ]
  },
  {
   "cell_type": "code",
   "execution_count": 8,
   "id": "1bfe2f64538f2043",
   "metadata": {
    "ExecuteTime": {
     "end_time": "2024-09-23T14:57:45.216194Z",
     "start_time": "2024-09-23T14:57:43.175201Z"
    }
   },
   "outputs": [],
   "source": [
    "import torch\n",
    "import torch.nn as nn\n",
    "import pytorch_lightning as pl\n",
    "from torch.utils.data import DataLoader\n",
    "import torch.optim as optim\n",
    "from torchmetrics import Accuracy\n",
    "\n",
    "# Define the PyTorch Lightning Module\n",
    "class GazeRNN(pl.LightningModule):\n",
    "    def __init__(self, \n",
    "                 input_size, \n",
    "                 hidden_size, \n",
    "                 num_layers, \n",
    "                 num_classes, \n",
    "                 rnn_type='LSTM',\n",
    "                 dropout=0,\n",
    "                 learning_rate=0.001,\n",
    "                 opt_step_size=5,\n",
    "                 opt_gamma=0.1,\n",
    "                 opt_wd=1e-5):\n",
    "        super(GazeRNN, self).__init__()\n",
    "        self.hidden_size = hidden_size\n",
    "        self.num_layers = num_layers\n",
    "        self.learning_rate = learning_rate\n",
    "        self.opt_step_size = opt_step_size\n",
    "        self.opt_gamma = opt_gamma\n",
    "        self.opt_wd = opt_wd\n",
    "\n",
    "        # Choose between LSTM, GRU, or vanilla RNN\n",
    "        if rnn_type == 'LSTM':\n",
    "            self.rnn = nn.LSTM(input_size, hidden_size, num_layers, batch_first=True, dropout=dropout)\n",
    "        elif rnn_type == 'GRU':\n",
    "            self.rnn = nn.GRU(input_size, hidden_size, num_layers, batch_first=True)\n",
    "        else:\n",
    "            self.rnn = nn.RNN(input_size, hidden_size, num_layers, batch_first=True)\n",
    "\n",
    "        # Fully connected layer for classification\n",
    "        self.fc = nn.Linear(hidden_size, num_classes)\n",
    "\n",
    "        # Loss function\n",
    "        self.criterion = nn.CrossEntropyLoss()\n",
    "\n",
    "        # Accuracy metric\n",
    "        self.train_acc = Accuracy(task=\"multiclass\", num_classes=num_classes)\n",
    "        self.val_acc = Accuracy(task=\"multiclass\", num_classes=num_classes)\n",
    "\n",
    "    def forward(self, x):\n",
    "        h0 = torch.zeros(self.num_layers, x.size(0), self.hidden_size).to(x.device)\n",
    "        if isinstance(self.rnn, nn.LSTM):\n",
    "            c0 = torch.zeros(self.num_layers, x.size(0), self.hidden_size).to(x.device)\n",
    "            out, _ = self.rnn(x, (h0, c0))\n",
    "        else:\n",
    "            out, _ = self.rnn(x, h0)\n",
    "\n",
    "        # Take the last time-step's output\n",
    "        out = out[:, -1, :]\n",
    "        out = self.fc(out)\n",
    "        return out\n",
    "\n",
    "    def training_step(self, batch, batch_idx):\n",
    "        inputs, labels = batch\n",
    "        outputs = self(inputs)\n",
    "        loss = self.criterion(outputs, labels)\n",
    "        acc = self.train_acc(outputs, labels)\n",
    "        self.log('train_loss', loss, on_step=True, on_epoch=True, prog_bar=True)\n",
    "        self.log('train_acc', acc, on_step=True, on_epoch=True, prog_bar=True)\n",
    "        return loss\n",
    "\n",
    "    def validation_step(self, batch, batch_idx):\n",
    "        inputs, labels = batch\n",
    "        outputs = self(inputs)\n",
    "        loss = self.criterion(outputs, labels)\n",
    "        acc = self.val_acc(outputs, labels)\n",
    "        self.log('val_loss', loss, on_step=True, on_epoch=True, prog_bar=True)\n",
    "        self.log('val_acc', acc, on_step=False, on_epoch=True, prog_bar=True)\n",
    "        self.log('lr', self.trainer.optimizers[0].param_groups[0]['lr'], on_epoch=True, prog_bar=True)\n",
    "        return loss\n",
    "\n",
    "    def configure_optimizers(self):\n",
    "        optimizer = optim.Adam(self.parameters(), lr=self.learning_rate, weight_decay=self.opt_wd)\n",
    "        scheduler = optim.lr_scheduler.StepLR(optimizer, step_size=self.opt_step_size, gamma=self.opt_gamma)\n",
    "        # scheduler = optim.lr_scheduler.ReduceLROnPlateau(optimizer, mode='min', factor=0.1, patience=3)\n",
    "        return [optimizer], [scheduler]\n"
   ]
  },
  {
   "cell_type": "code",
   "execution_count": 9,
   "id": "2a5857d37f02b6cc",
   "metadata": {
    "ExecuteTime": {
     "end_time": "2024-09-23T14:57:45.365532Z",
     "start_time": "2024-09-23T14:57:45.256380Z"
    }
   },
   "outputs": [],
   "source": [
    "import os\n",
    "import pytorch_lightning as pl\n",
    "from torch.utils.data import DataLoader\n",
    "from sklearn.model_selection import train_test_split\n",
    "\n",
    "class GazeDataModule(pl.LightningDataModule):\n",
    "    def __init__(self, ds_train, ds_val, batch_size=64, num_workers=4):\n",
    "        super(GazeDataModule, self).__init__()\n",
    "        self.ds_train = ds_train\n",
    "        self.ds_val = ds_val\n",
    "        self.batch_size = batch_size\n",
    "        self.num_workers = num_workers\n",
    "\n",
    "    def train_dataloader(self):\n",
    "        return DataLoader(self.ds_train, batch_size=self.batch_size, shuffle=True, num_workers=self.num_workers)\n",
    "\n",
    "    def val_dataloader(self):\n",
    "        return DataLoader(self.ds_val, batch_size=self.batch_size, shuffle=False, num_workers=self.num_workers)\n"
   ]
  },
  {
   "cell_type": "code",
   "execution_count": 10,
   "id": "a5e0c475",
   "metadata": {},
   "outputs": [
    {
     "name": "stdout",
     "output_type": "stream",
     "text": [
      "['pupil_timestamp', 'norm_pos_x_2d_0', 'norm_pos_y_2d_0', 'diameter_2d_0', 'ellipse_center_x_2d_0', 'ellipse_center_y_2d_0', 'ellipse_axis_a_2d_0', 'ellipse_axis_b_2d_0', 'ellipse_angle_2d_0', 'norm_pos_x_2d_1', 'norm_pos_y_2d_1', 'diameter_2d_1', 'ellipse_center_x_2d_1', 'ellipse_center_y_2d_1', 'ellipse_axis_a_2d_1', 'ellipse_axis_b_2d_1', 'ellipse_angle_2d_1', 'norm_pos_x_3d_0', 'norm_pos_y_3d_0', 'diameter_3d_0', 'ellipse_center_x_3d_0', 'ellipse_center_y_3d_0', 'ellipse_axis_a_3d_0', 'ellipse_axis_b_3d_0', 'ellipse_angle_3d_0', 'diameter_3d_3d_0', 'model_confidence_3d_0', 'sphere_center_x_3d_0', 'sphere_center_y_3d_0', 'sphere_center_z_3d_0', 'sphere_radius_3d_0', 'circle_3d_center_x_3d_0', 'circle_3d_center_y_3d_0', 'circle_3d_center_z_3d_0', 'circle_3d_normal_x_3d_0', 'circle_3d_normal_y_3d_0', 'circle_3d_normal_z_3d_0', 'circle_3d_radius_3d_0', 'theta_3d_0', 'phi_3d_0', 'projected_sphere_center_x_3d_0', 'projected_sphere_center_y_3d_0', 'projected_sphere_axis_a_3d_0', 'projected_sphere_axis_b_3d_0', 'projected_sphere_angle_3d_0', 'norm_pos_x_3d_1', 'norm_pos_y_3d_1', 'diameter_3d_1', 'ellipse_center_x_3d_1', 'ellipse_center_y_3d_1', 'ellipse_axis_a_3d_1', 'ellipse_axis_b_3d_1', 'ellipse_angle_3d_1', 'diameter_3d_3d_1', 'model_confidence_3d_1', 'sphere_center_x_3d_1', 'sphere_center_y_3d_1', 'sphere_center_z_3d_1', 'sphere_radius_3d_1', 'circle_3d_center_x_3d_1', 'circle_3d_center_y_3d_1', 'circle_3d_center_z_3d_1', 'circle_3d_normal_x_3d_1', 'circle_3d_normal_y_3d_1', 'circle_3d_normal_z_3d_1', 'circle_3d_radius_3d_1', 'theta_3d_1', 'phi_3d_1', 'projected_sphere_center_x_3d_1', 'projected_sphere_center_y_3d_1', 'projected_sphere_axis_a_3d_1', 'projected_sphere_axis_b_3d_1', 'projected_sphere_angle_3d_1']\n",
      "[70066.411701 70066.419654 70066.428016 70066.43574  70066.443642]\n",
      "Window duration: 1.08 seconds\n"
     ]
    }
   ],
   "source": [
    "df = pd.read_csv(conf.DATASET_PATH + '01_Inspection.csv')\n",
    "\n",
    "print(list(df.columns))\n",
    "\n",
    "times = df['pupil_timestamp'].values\n",
    "\n",
    "# convert the timestamps to seconds\n",
    "print(times[:5])\n",
    "window = 120\n",
    "window_duration = times[window] - times[0]\n",
    "print(f\"Window duration: {window_duration:.2f} seconds\")"
   ]
  },
  {
   "cell_type": "code",
   "execution_count": 33,
   "id": "4b6e04a8f806e5de",
   "metadata": {
    "ExecuteTime": {
     "end_time": "2024-09-23T15:26:15.301810Z",
     "start_time": "2024-09-23T15:26:12.793631Z"
    }
   },
   "outputs": [
    {
     "name": "stdout",
     "output_type": "stream",
     "text": [
      "Training dataset shape: (707, 300, 60)\n",
      "Test dataset shape: (160, 300, 60)\n",
      "Shape of each sample: (300, 60)\n",
      "Unique classes: ['Inspection', 'Reading', 'Search']\n",
      "Number of NaN values in the training dataset: 0\n"
     ]
    }
   ],
   "source": [
    "import pickle\n",
    "\n",
    "from sklearn.preprocessing import RobustScaler\n",
    "\n",
    "col_of_interest = [\n",
    "    'norm_pos_x_2d_0', 'norm_pos_y_2d_0', 'diameter_2d_0', \n",
    "    'ellipse_center_x_2d_0', 'ellipse_center_y_2d_0', 'ellipse_axis_a_2d_0', \n",
    "    'ellipse_axis_b_2d_0', 'ellipse_angle_2d_0', 'norm_pos_x_2d_1', \n",
    "    'norm_pos_y_2d_1', 'diameter_2d_1', 'ellipse_center_x_2d_1', \n",
    "    'ellipse_center_y_2d_1', 'ellipse_axis_a_2d_1', 'ellipse_axis_b_2d_1', \n",
    "    'ellipse_angle_2d_1', 'norm_pos_x_3d_0', 'norm_pos_y_3d_0', \n",
    "    'diameter_3d_0', 'diameter_3d_3d_0', 'diameter_3d_1', 'diameter_3d_3d_1', \n",
    "    # 'model_confidence_3d_0', 'model_confidence_3d_1', \n",
    "    'ellipse_center_x_3d_0', 'ellipse_center_y_3d_0', 'ellipse_axis_a_3d_0', 'ellipse_axis_b_3d_0', 'ellipse_angle_3d_0', \n",
    "    'sphere_center_x_3d_0', 'sphere_center_y_3d_0', 'sphere_center_z_3d_0', 'sphere_radius_3d_0', \n",
    "    'circle_3d_center_x_3d_0', 'circle_3d_center_y_3d_0', 'circle_3d_center_z_3d_0', 'circle_3d_normal_x_3d_0', 'circle_3d_normal_y_3d_0', 'circle_3d_normal_z_3d_0', 'circle_3d_radius_3d_0', \n",
    "    'theta_3d_0', 'phi_3d_0', 'theta_3d_1', 'phi_3d_1',\n",
    "    #'projected_sphere_center_x_3d_0', 'projected_sphere_center_y_3d_0', 'projected_sphere_axis_a_3d_0', 'projected_sphere_axis_b_3d_0', 'projected_sphere_angle_3d_0', \n",
    "    'norm_pos_x_3d_1', 'norm_pos_y_3d_1', \n",
    "    'ellipse_center_x_3d_1', 'ellipse_center_y_3d_1', 'ellipse_axis_a_3d_1', 'ellipse_axis_b_3d_1', 'ellipse_angle_3d_1',\n",
    "    'sphere_center_x_3d_1', 'sphere_center_y_3d_1', 'sphere_center_z_3d_1', 'sphere_radius_3d_1', \n",
    "    'circle_3d_center_x_3d_1', 'circle_3d_center_y_3d_1', 'circle_3d_center_z_3d_1', 'circle_3d_normal_x_3d_1', 'circle_3d_normal_y_3d_1', 'circle_3d_normal_z_3d_1', 'circle_3d_radius_3d_1', \n",
    "    # 'projected_sphere_center_x_3d_1', 'projected_sphere_center_y_3d_1', 'projected_sphere_axis_a_3d_1', 'projected_sphere_axis_b_3d_1', 'projected_sphere_angle_3d_1'\n",
    "]\n",
    "\n",
    "\n",
    "\n",
    "other_cols = ['pupil_timestamp']\n",
    "\n",
    "\n",
    "dir_files = os.listdir(conf.DATASET_PATH)\n",
    "test_participants = ['04', '05']\n",
    "train_files = [os.path.join(conf.DATASET_PATH, f) for f in dir_files if f.split('_')[0] not in test_participants and f.endswith('.csv')]\n",
    "test_files = [os.path.join(conf.DATASET_PATH, f) for f in dir_files if f.split('_')[0] in test_participants and f.endswith('.csv')]\n",
    "\n",
    "train_ds = GazeDataset(train_files, col_of_interest, 300, min_confidence=0.5)\n",
    "test_ds = GazeDataset(test_files, col_of_interest, 300, min_confidence=0.5)\n",
    "\n",
    "scaler = RobustScaler()\n",
    "all_data = np.concatenate([train_ds.data, test_ds.data])\n",
    "all_data = all_data.reshape(-1, all_data.shape[-1])\n",
    "scaler.fit(all_data.reshape(-1, all_data.shape[-1]))\n",
    "\n",
    "with open('../.local/scaler.pickle', 'wb') as f:\n",
    "    pickle.dump(scaler, f)\n",
    "\n",
    "train_ds.data = scaler.transform(train_ds.data.reshape(-1, train_ds.data.shape[-1])).reshape(train_ds.data.shape)\n",
    "test_ds.data = scaler.transform(test_ds.data.reshape(-1, test_ds.data.shape[-1])).reshape(test_ds.data.shape)\n",
    "\n",
    "print(f\"Training dataset shape: {train_ds.data.shape}\")\n",
    "print(f\"Test dataset shape: {test_ds.data.shape}\")\n",
    "print(f\"Shape of each sample: {train_ds[0][0].shape}\")\n",
    "print(f\"Unique classes: {list(train_ds.CLASS_MAP.keys())}\")\n",
    "\n",
    "# print the number of nan values in the dataset\n",
    "print(f\"Number of NaN values in the training dataset: {np.isnan(train_ds.data).sum()}\")"
   ]
  },
  {
   "cell_type": "code",
   "execution_count": 74,
   "id": "c18083b810a2d156",
   "metadata": {
    "ExecuteTime": {
     "end_time": "2024-09-23T15:27:53.082707Z",
     "start_time": "2024-09-23T15:26:57.923804Z"
    }
   },
   "outputs": [
    {
     "name": "stderr",
     "output_type": "stream",
     "text": [
      "GPU available: True (cuda), used: True\n",
      "TPU available: False, using: 0 TPU cores\n",
      "HPU available: False, using: 0 HPUs\n",
      "LOCAL_RANK: 0 - CUDA_VISIBLE_DEVICES: [0]\n",
      "\n",
      "  | Name      | Type               | Params | Mode \n",
      "---------------------------------------------------------\n",
      "0 | rnn       | LSTM               | 12.0 K | train\n",
      "1 | fc        | Linear             | 99     | train\n",
      "2 | criterion | CrossEntropyLoss   | 0      | train\n",
      "3 | train_acc | MulticlassAccuracy | 0      | train\n",
      "4 | val_acc   | MulticlassAccuracy | 0      | train\n",
      "---------------------------------------------------------\n",
      "12.1 K    Trainable params\n",
      "0         Non-trainable params\n",
      "12.1 K    Total params\n",
      "0.049     Total estimated model params size (MB)\n",
      "5         Modules in train mode\n",
      "0         Modules in eval mode\n"
     ]
    },
    {
     "data": {
      "application/vnd.jupyter.widget-view+json": {
       "model_id": "fcd1b3509c5f469faf21a278142a86b7",
       "version_major": 2,
       "version_minor": 0
      },
      "text/plain": [
       "Sanity Checking: |          | 0/? [00:00<?, ?it/s]"
      ]
     },
     "metadata": {},
     "output_type": "display_data"
    },
    {
     "data": {
      "application/vnd.jupyter.widget-view+json": {
       "model_id": "7d41561679d34851ac69d12d02ced794",
       "version_major": 2,
       "version_minor": 0
      },
      "text/plain": [
       "Training: |          | 0/? [00:00<?, ?it/s]"
      ]
     },
     "metadata": {},
     "output_type": "display_data"
    },
    {
     "data": {
      "application/vnd.jupyter.widget-view+json": {
       "model_id": "9a0843b884374a4189d4bf0428e37bc3",
       "version_major": 2,
       "version_minor": 0
      },
      "text/plain": [
       "Validation: |          | 0/? [00:00<?, ?it/s]"
      ]
     },
     "metadata": {},
     "output_type": "display_data"
    },
    {
     "data": {
      "application/vnd.jupyter.widget-view+json": {
       "model_id": "0d2ee0fbb49d40788277fd1699a48e9e",
       "version_major": 2,
       "version_minor": 0
      },
      "text/plain": [
       "Validation: |          | 0/? [00:00<?, ?it/s]"
      ]
     },
     "metadata": {},
     "output_type": "display_data"
    },
    {
     "data": {
      "application/vnd.jupyter.widget-view+json": {
       "model_id": "2fa40c31193a4d43923e6da185fcacb1",
       "version_major": 2,
       "version_minor": 0
      },
      "text/plain": [
       "Validation: |          | 0/? [00:00<?, ?it/s]"
      ]
     },
     "metadata": {},
     "output_type": "display_data"
    },
    {
     "data": {
      "application/vnd.jupyter.widget-view+json": {
       "model_id": "1acee3126191473dafb30317d3d65c07",
       "version_major": 2,
       "version_minor": 0
      },
      "text/plain": [
       "Validation: |          | 0/? [00:00<?, ?it/s]"
      ]
     },
     "metadata": {},
     "output_type": "display_data"
    },
    {
     "data": {
      "application/vnd.jupyter.widget-view+json": {
       "model_id": "4caed7f739dc47ad87cade1911cb7e61",
       "version_major": 2,
       "version_minor": 0
      },
      "text/plain": [
       "Validation: |          | 0/? [00:00<?, ?it/s]"
      ]
     },
     "metadata": {},
     "output_type": "display_data"
    },
    {
     "data": {
      "application/vnd.jupyter.widget-view+json": {
       "model_id": "822d43b4eee741d88f12e4f3fc456962",
       "version_major": 2,
       "version_minor": 0
      },
      "text/plain": [
       "Validation: |          | 0/? [00:00<?, ?it/s]"
      ]
     },
     "metadata": {},
     "output_type": "display_data"
    },
    {
     "data": {
      "application/vnd.jupyter.widget-view+json": {
       "model_id": "d0339fbb16834a4e8c6e596d9749edc4",
       "version_major": 2,
       "version_minor": 0
      },
      "text/plain": [
       "Validation: |          | 0/? [00:00<?, ?it/s]"
      ]
     },
     "metadata": {},
     "output_type": "display_data"
    },
    {
     "data": {
      "application/vnd.jupyter.widget-view+json": {
       "model_id": "8566f79e9e934cd98205a45901e6c4f3",
       "version_major": 2,
       "version_minor": 0
      },
      "text/plain": [
       "Validation: |          | 0/? [00:00<?, ?it/s]"
      ]
     },
     "metadata": {},
     "output_type": "display_data"
    },
    {
     "data": {
      "application/vnd.jupyter.widget-view+json": {
       "model_id": "625c4603ff244841ad7b66418eefc2d2",
       "version_major": 2,
       "version_minor": 0
      },
      "text/plain": [
       "Validation: |          | 0/? [00:00<?, ?it/s]"
      ]
     },
     "metadata": {},
     "output_type": "display_data"
    },
    {
     "data": {
      "application/vnd.jupyter.widget-view+json": {
       "model_id": "450834ca67484ef8962da61f17da3729",
       "version_major": 2,
       "version_minor": 0
      },
      "text/plain": [
       "Validation: |          | 0/? [00:00<?, ?it/s]"
      ]
     },
     "metadata": {},
     "output_type": "display_data"
    },
    {
     "data": {
      "application/vnd.jupyter.widget-view+json": {
       "model_id": "654cf9c0acb944dea33cf006ab6cb6ef",
       "version_major": 2,
       "version_minor": 0
      },
      "text/plain": [
       "Validation: |          | 0/? [00:00<?, ?it/s]"
      ]
     },
     "metadata": {},
     "output_type": "display_data"
    },
    {
     "data": {
      "application/vnd.jupyter.widget-view+json": {
       "model_id": "fde879e454004315ae6fab152ba88575",
       "version_major": 2,
       "version_minor": 0
      },
      "text/plain": [
       "Validation: |          | 0/? [00:00<?, ?it/s]"
      ]
     },
     "metadata": {},
     "output_type": "display_data"
    },
    {
     "data": {
      "application/vnd.jupyter.widget-view+json": {
       "model_id": "295164171db442c6aae70629d9786295",
       "version_major": 2,
       "version_minor": 0
      },
      "text/plain": [
       "Validation: |          | 0/? [00:00<?, ?it/s]"
      ]
     },
     "metadata": {},
     "output_type": "display_data"
    },
    {
     "data": {
      "application/vnd.jupyter.widget-view+json": {
       "model_id": "7f04d763a3d4444b95de3df9bf8ac7a0",
       "version_major": 2,
       "version_minor": 0
      },
      "text/plain": [
       "Validation: |          | 0/? [00:00<?, ?it/s]"
      ]
     },
     "metadata": {},
     "output_type": "display_data"
    },
    {
     "data": {
      "application/vnd.jupyter.widget-view+json": {
       "model_id": "a543bc95c2b24a44a6c215a06e4f50c8",
       "version_major": 2,
       "version_minor": 0
      },
      "text/plain": [
       "Validation: |          | 0/? [00:00<?, ?it/s]"
      ]
     },
     "metadata": {},
     "output_type": "display_data"
    },
    {
     "data": {
      "application/vnd.jupyter.widget-view+json": {
       "model_id": "1ff478e4c2314295bde2056a4072958a",
       "version_major": 2,
       "version_minor": 0
      },
      "text/plain": [
       "Validation: |          | 0/? [00:00<?, ?it/s]"
      ]
     },
     "metadata": {},
     "output_type": "display_data"
    },
    {
     "data": {
      "application/vnd.jupyter.widget-view+json": {
       "model_id": "8737fe18151c45028af070724439be7c",
       "version_major": 2,
       "version_minor": 0
      },
      "text/plain": [
       "Validation: |          | 0/? [00:00<?, ?it/s]"
      ]
     },
     "metadata": {},
     "output_type": "display_data"
    },
    {
     "data": {
      "application/vnd.jupyter.widget-view+json": {
       "model_id": "7dcdabb98b0f49359c5f9e0c67fabfce",
       "version_major": 2,
       "version_minor": 0
      },
      "text/plain": [
       "Validation: |          | 0/? [00:00<?, ?it/s]"
      ]
     },
     "metadata": {},
     "output_type": "display_data"
    },
    {
     "data": {
      "application/vnd.jupyter.widget-view+json": {
       "model_id": "20df2598d69643f590810af525e2c525",
       "version_major": 2,
       "version_minor": 0
      },
      "text/plain": [
       "Validation: |          | 0/? [00:00<?, ?it/s]"
      ]
     },
     "metadata": {},
     "output_type": "display_data"
    },
    {
     "data": {
      "application/vnd.jupyter.widget-view+json": {
       "model_id": "e2cda89c5f1342c1a6598d0e2102dec3",
       "version_major": 2,
       "version_minor": 0
      },
      "text/plain": [
       "Validation: |          | 0/? [00:00<?, ?it/s]"
      ]
     },
     "metadata": {},
     "output_type": "display_data"
    },
    {
     "data": {
      "application/vnd.jupyter.widget-view+json": {
       "model_id": "9ea1e446dea0420e8bb8921da3636cbc",
       "version_major": 2,
       "version_minor": 0
      },
      "text/plain": [
       "Validation: |          | 0/? [00:00<?, ?it/s]"
      ]
     },
     "metadata": {},
     "output_type": "display_data"
    },
    {
     "data": {
      "application/vnd.jupyter.widget-view+json": {
       "model_id": "a529c1a1ef96489b8197e5bf0e495bd8",
       "version_major": 2,
       "version_minor": 0
      },
      "text/plain": [
       "Validation: |          | 0/? [00:00<?, ?it/s]"
      ]
     },
     "metadata": {},
     "output_type": "display_data"
    },
    {
     "data": {
      "application/vnd.jupyter.widget-view+json": {
       "model_id": "5e4a4883a1cc43d38d2f9dd5b87dd37f",
       "version_major": 2,
       "version_minor": 0
      },
      "text/plain": [
       "Validation: |          | 0/? [00:00<?, ?it/s]"
      ]
     },
     "metadata": {},
     "output_type": "display_data"
    },
    {
     "data": {
      "application/vnd.jupyter.widget-view+json": {
       "model_id": "8804850cf05c40d5943144f0e4a1e7e9",
       "version_major": 2,
       "version_minor": 0
      },
      "text/plain": [
       "Validation: |          | 0/? [00:00<?, ?it/s]"
      ]
     },
     "metadata": {},
     "output_type": "display_data"
    },
    {
     "data": {
      "application/vnd.jupyter.widget-view+json": {
       "model_id": "ae282b975bdd4a46898a67087338fb6d",
       "version_major": 2,
       "version_minor": 0
      },
      "text/plain": [
       "Validation: |          | 0/? [00:00<?, ?it/s]"
      ]
     },
     "metadata": {},
     "output_type": "display_data"
    },
    {
     "data": {
      "application/vnd.jupyter.widget-view+json": {
       "model_id": "5b6512be23df4bc8881d5cbb618b6447",
       "version_major": 2,
       "version_minor": 0
      },
      "text/plain": [
       "Validation: |          | 0/? [00:00<?, ?it/s]"
      ]
     },
     "metadata": {},
     "output_type": "display_data"
    },
    {
     "data": {
      "application/vnd.jupyter.widget-view+json": {
       "model_id": "339144f2c1714162b9fc05259eb6f38d",
       "version_major": 2,
       "version_minor": 0
      },
      "text/plain": [
       "Validation: |          | 0/? [00:00<?, ?it/s]"
      ]
     },
     "metadata": {},
     "output_type": "display_data"
    },
    {
     "data": {
      "application/vnd.jupyter.widget-view+json": {
       "model_id": "92df82375fe5403fac79bd9901b74100",
       "version_major": 2,
       "version_minor": 0
      },
      "text/plain": [
       "Validation: |          | 0/? [00:00<?, ?it/s]"
      ]
     },
     "metadata": {},
     "output_type": "display_data"
    },
    {
     "data": {
      "application/vnd.jupyter.widget-view+json": {
       "model_id": "29beecd887834843952e5b68fe0de686",
       "version_major": 2,
       "version_minor": 0
      },
      "text/plain": [
       "Validation: |          | 0/? [00:00<?, ?it/s]"
      ]
     },
     "metadata": {},
     "output_type": "display_data"
    },
    {
     "data": {
      "application/vnd.jupyter.widget-view+json": {
       "model_id": "a4be70bc88d646ff9c780a0c860b0da8",
       "version_major": 2,
       "version_minor": 0
      },
      "text/plain": [
       "Validation: |          | 0/? [00:00<?, ?it/s]"
      ]
     },
     "metadata": {},
     "output_type": "display_data"
    },
    {
     "data": {
      "application/vnd.jupyter.widget-view+json": {
       "model_id": "73d284e57ec44477ac1b13500cc38660",
       "version_major": 2,
       "version_minor": 0
      },
      "text/plain": [
       "Validation: |          | 0/? [00:00<?, ?it/s]"
      ]
     },
     "metadata": {},
     "output_type": "display_data"
    },
    {
     "data": {
      "application/vnd.jupyter.widget-view+json": {
       "model_id": "eb1c5ec574764af6afe648ec77eef8b1",
       "version_major": 2,
       "version_minor": 0
      },
      "text/plain": [
       "Validation: |          | 0/? [00:00<?, ?it/s]"
      ]
     },
     "metadata": {},
     "output_type": "display_data"
    },
    {
     "data": {
      "application/vnd.jupyter.widget-view+json": {
       "model_id": "d8ceb5d7874d4ffcb5dd0db6952739ed",
       "version_major": 2,
       "version_minor": 0
      },
      "text/plain": [
       "Validation: |          | 0/? [00:00<?, ?it/s]"
      ]
     },
     "metadata": {},
     "output_type": "display_data"
    },
    {
     "data": {
      "application/vnd.jupyter.widget-view+json": {
       "model_id": "9a3fa4d1a552434b870fc04ccd0ca69c",
       "version_major": 2,
       "version_minor": 0
      },
      "text/plain": [
       "Validation: |          | 0/? [00:00<?, ?it/s]"
      ]
     },
     "metadata": {},
     "output_type": "display_data"
    },
    {
     "data": {
      "application/vnd.jupyter.widget-view+json": {
       "model_id": "77e95d45ba4c4f3d8a9f2a12b825a0cb",
       "version_major": 2,
       "version_minor": 0
      },
      "text/plain": [
       "Validation: |          | 0/? [00:00<?, ?it/s]"
      ]
     },
     "metadata": {},
     "output_type": "display_data"
    },
    {
     "data": {
      "application/vnd.jupyter.widget-view+json": {
       "model_id": "021cae0f43dd45d5824c5835aa4eca2c",
       "version_major": 2,
       "version_minor": 0
      },
      "text/plain": [
       "Validation: |          | 0/? [00:00<?, ?it/s]"
      ]
     },
     "metadata": {},
     "output_type": "display_data"
    },
    {
     "data": {
      "application/vnd.jupyter.widget-view+json": {
       "model_id": "3d533fbbea904e0cb2bc036f474e9e49",
       "version_major": 2,
       "version_minor": 0
      },
      "text/plain": [
       "Validation: |          | 0/? [00:00<?, ?it/s]"
      ]
     },
     "metadata": {},
     "output_type": "display_data"
    },
    {
     "data": {
      "application/vnd.jupyter.widget-view+json": {
       "model_id": "5fb7d3a9a43b4221baaad67c95b1ee3d",
       "version_major": 2,
       "version_minor": 0
      },
      "text/plain": [
       "Validation: |          | 0/? [00:00<?, ?it/s]"
      ]
     },
     "metadata": {},
     "output_type": "display_data"
    },
    {
     "data": {
      "application/vnd.jupyter.widget-view+json": {
       "model_id": "fa345216945b4a0492a4bb61a2436160",
       "version_major": 2,
       "version_minor": 0
      },
      "text/plain": [
       "Validation: |          | 0/? [00:00<?, ?it/s]"
      ]
     },
     "metadata": {},
     "output_type": "display_data"
    },
    {
     "data": {
      "application/vnd.jupyter.widget-view+json": {
       "model_id": "31a4069bd00040d5896b349ba944f5bb",
       "version_major": 2,
       "version_minor": 0
      },
      "text/plain": [
       "Validation: |          | 0/? [00:00<?, ?it/s]"
      ]
     },
     "metadata": {},
     "output_type": "display_data"
    },
    {
     "data": {
      "application/vnd.jupyter.widget-view+json": {
       "model_id": "fc5327637895401493f908c78846bead",
       "version_major": 2,
       "version_minor": 0
      },
      "text/plain": [
       "Validation: |          | 0/? [00:00<?, ?it/s]"
      ]
     },
     "metadata": {},
     "output_type": "display_data"
    },
    {
     "data": {
      "application/vnd.jupyter.widget-view+json": {
       "model_id": "ed5fe97c359045b595d0b43749810de6",
       "version_major": 2,
       "version_minor": 0
      },
      "text/plain": [
       "Validation: |          | 0/? [00:00<?, ?it/s]"
      ]
     },
     "metadata": {},
     "output_type": "display_data"
    },
    {
     "data": {
      "application/vnd.jupyter.widget-view+json": {
       "model_id": "5433a272caac4399ab507710280e7b57",
       "version_major": 2,
       "version_minor": 0
      },
      "text/plain": [
       "Validation: |          | 0/? [00:00<?, ?it/s]"
      ]
     },
     "metadata": {},
     "output_type": "display_data"
    },
    {
     "data": {
      "application/vnd.jupyter.widget-view+json": {
       "model_id": "ce2b7f12880b41a88b66a08944500002",
       "version_major": 2,
       "version_minor": 0
      },
      "text/plain": [
       "Validation: |          | 0/? [00:00<?, ?it/s]"
      ]
     },
     "metadata": {},
     "output_type": "display_data"
    },
    {
     "data": {
      "application/vnd.jupyter.widget-view+json": {
       "model_id": "e3b26f9f81cf4f3ebd6b2f228b7a74ee",
       "version_major": 2,
       "version_minor": 0
      },
      "text/plain": [
       "Validation: |          | 0/? [00:00<?, ?it/s]"
      ]
     },
     "metadata": {},
     "output_type": "display_data"
    },
    {
     "data": {
      "application/vnd.jupyter.widget-view+json": {
       "model_id": "9c71921dce5e499db1322bfc0482119c",
       "version_major": 2,
       "version_minor": 0
      },
      "text/plain": [
       "Validation: |          | 0/? [00:00<?, ?it/s]"
      ]
     },
     "metadata": {},
     "output_type": "display_data"
    },
    {
     "data": {
      "application/vnd.jupyter.widget-view+json": {
       "model_id": "f4a314e04b0a480eb9d16def718a43b4",
       "version_major": 2,
       "version_minor": 0
      },
      "text/plain": [
       "Validation: |          | 0/? [00:00<?, ?it/s]"
      ]
     },
     "metadata": {},
     "output_type": "display_data"
    },
    {
     "data": {
      "application/vnd.jupyter.widget-view+json": {
       "model_id": "763bad7d4dee48a2bd6f72502d5fb4e0",
       "version_major": 2,
       "version_minor": 0
      },
      "text/plain": [
       "Validation: |          | 0/? [00:00<?, ?it/s]"
      ]
     },
     "metadata": {},
     "output_type": "display_data"
    },
    {
     "data": {
      "application/vnd.jupyter.widget-view+json": {
       "model_id": "67c784ec600e45d6ae90922971643329",
       "version_major": 2,
       "version_minor": 0
      },
      "text/plain": [
       "Validation: |          | 0/? [00:00<?, ?it/s]"
      ]
     },
     "metadata": {},
     "output_type": "display_data"
    },
    {
     "data": {
      "application/vnd.jupyter.widget-view+json": {
       "model_id": "72ccc1be101947008dc3b35e09f26573",
       "version_major": 2,
       "version_minor": 0
      },
      "text/plain": [
       "Validation: |          | 0/? [00:00<?, ?it/s]"
      ]
     },
     "metadata": {},
     "output_type": "display_data"
    },
    {
     "data": {
      "application/vnd.jupyter.widget-view+json": {
       "model_id": "34f44ec00d12424aa9e13e9eea8907a1",
       "version_major": 2,
       "version_minor": 0
      },
      "text/plain": [
       "Validation: |          | 0/? [00:00<?, ?it/s]"
      ]
     },
     "metadata": {},
     "output_type": "display_data"
    },
    {
     "data": {
      "application/vnd.jupyter.widget-view+json": {
       "model_id": "a952f707082144ec885403e2afad93a6",
       "version_major": 2,
       "version_minor": 0
      },
      "text/plain": [
       "Validation: |          | 0/? [00:00<?, ?it/s]"
      ]
     },
     "metadata": {},
     "output_type": "display_data"
    },
    {
     "data": {
      "application/vnd.jupyter.widget-view+json": {
       "model_id": "5908d2a40075407db38a08bbf84b1019",
       "version_major": 2,
       "version_minor": 0
      },
      "text/plain": [
       "Validation: |          | 0/? [00:00<?, ?it/s]"
      ]
     },
     "metadata": {},
     "output_type": "display_data"
    },
    {
     "data": {
      "application/vnd.jupyter.widget-view+json": {
       "model_id": "6415d18614454aae9c6af6ddf63745fd",
       "version_major": 2,
       "version_minor": 0
      },
      "text/plain": [
       "Validation: |          | 0/? [00:00<?, ?it/s]"
      ]
     },
     "metadata": {},
     "output_type": "display_data"
    },
    {
     "data": {
      "application/vnd.jupyter.widget-view+json": {
       "model_id": "3d5d50abec3641a983478306b99179da",
       "version_major": 2,
       "version_minor": 0
      },
      "text/plain": [
       "Validation: |          | 0/? [00:00<?, ?it/s]"
      ]
     },
     "metadata": {},
     "output_type": "display_data"
    },
    {
     "data": {
      "application/vnd.jupyter.widget-view+json": {
       "model_id": "a43936e7475749709c7703df05502e49",
       "version_major": 2,
       "version_minor": 0
      },
      "text/plain": [
       "Validation: |          | 0/? [00:00<?, ?it/s]"
      ]
     },
     "metadata": {},
     "output_type": "display_data"
    },
    {
     "data": {
      "application/vnd.jupyter.widget-view+json": {
       "model_id": "19e33364eba141e48a829f041834b094",
       "version_major": 2,
       "version_minor": 0
      },
      "text/plain": [
       "Validation: |          | 0/? [00:00<?, ?it/s]"
      ]
     },
     "metadata": {},
     "output_type": "display_data"
    },
    {
     "data": {
      "application/vnd.jupyter.widget-view+json": {
       "model_id": "0d4da1200b664534916c231b7f91f920",
       "version_major": 2,
       "version_minor": 0
      },
      "text/plain": [
       "Validation: |          | 0/? [00:00<?, ?it/s]"
      ]
     },
     "metadata": {},
     "output_type": "display_data"
    },
    {
     "data": {
      "application/vnd.jupyter.widget-view+json": {
       "model_id": "41e84897252243c7b2ae08b716877dbc",
       "version_major": 2,
       "version_minor": 0
      },
      "text/plain": [
       "Validation: |          | 0/? [00:00<?, ?it/s]"
      ]
     },
     "metadata": {},
     "output_type": "display_data"
    },
    {
     "data": {
      "application/vnd.jupyter.widget-view+json": {
       "model_id": "00b888359d3e4424ac86cc32b37465a5",
       "version_major": 2,
       "version_minor": 0
      },
      "text/plain": [
       "Validation: |          | 0/? [00:00<?, ?it/s]"
      ]
     },
     "metadata": {},
     "output_type": "display_data"
    },
    {
     "data": {
      "application/vnd.jupyter.widget-view+json": {
       "model_id": "bf1fa5c31ef44599bc5feb5b236266c3",
       "version_major": 2,
       "version_minor": 0
      },
      "text/plain": [
       "Validation: |          | 0/? [00:00<?, ?it/s]"
      ]
     },
     "metadata": {},
     "output_type": "display_data"
    },
    {
     "data": {
      "application/vnd.jupyter.widget-view+json": {
       "model_id": "c23159a7c073475783a82c79a2008e7c",
       "version_major": 2,
       "version_minor": 0
      },
      "text/plain": [
       "Validation: |          | 0/? [00:00<?, ?it/s]"
      ]
     },
     "metadata": {},
     "output_type": "display_data"
    },
    {
     "data": {
      "application/vnd.jupyter.widget-view+json": {
       "model_id": "26634cd197464268bf384d3dba0d6129",
       "version_major": 2,
       "version_minor": 0
      },
      "text/plain": [
       "Validation: |          | 0/? [00:00<?, ?it/s]"
      ]
     },
     "metadata": {},
     "output_type": "display_data"
    },
    {
     "data": {
      "application/vnd.jupyter.widget-view+json": {
       "model_id": "5eb264736a4849d395856cdee5c9abb3",
       "version_major": 2,
       "version_minor": 0
      },
      "text/plain": [
       "Validation: |          | 0/? [00:00<?, ?it/s]"
      ]
     },
     "metadata": {},
     "output_type": "display_data"
    },
    {
     "data": {
      "application/vnd.jupyter.widget-view+json": {
       "model_id": "0dbe4565df0143159f3dbbb6cd6abbd6",
       "version_major": 2,
       "version_minor": 0
      },
      "text/plain": [
       "Validation: |          | 0/? [00:00<?, ?it/s]"
      ]
     },
     "metadata": {},
     "output_type": "display_data"
    },
    {
     "data": {
      "application/vnd.jupyter.widget-view+json": {
       "model_id": "cee61243310f413488ad106d154a79df",
       "version_major": 2,
       "version_minor": 0
      },
      "text/plain": [
       "Validation: |          | 0/? [00:00<?, ?it/s]"
      ]
     },
     "metadata": {},
     "output_type": "display_data"
    },
    {
     "data": {
      "application/vnd.jupyter.widget-view+json": {
       "model_id": "1b8085ce29914823b1c58bed27bc6a90",
       "version_major": 2,
       "version_minor": 0
      },
      "text/plain": [
       "Validation: |          | 0/? [00:00<?, ?it/s]"
      ]
     },
     "metadata": {},
     "output_type": "display_data"
    },
    {
     "data": {
      "application/vnd.jupyter.widget-view+json": {
       "model_id": "4ea88009542842a59fa0561c33707fdc",
       "version_major": 2,
       "version_minor": 0
      },
      "text/plain": [
       "Validation: |          | 0/? [00:00<?, ?it/s]"
      ]
     },
     "metadata": {},
     "output_type": "display_data"
    },
    {
     "data": {
      "application/vnd.jupyter.widget-view+json": {
       "model_id": "b620fd55028249bebceb8a50541cead9",
       "version_major": 2,
       "version_minor": 0
      },
      "text/plain": [
       "Validation: |          | 0/? [00:00<?, ?it/s]"
      ]
     },
     "metadata": {},
     "output_type": "display_data"
    },
    {
     "data": {
      "application/vnd.jupyter.widget-view+json": {
       "model_id": "512f1bec5a794089a1306e9797a79693",
       "version_major": 2,
       "version_minor": 0
      },
      "text/plain": [
       "Validation: |          | 0/? [00:00<?, ?it/s]"
      ]
     },
     "metadata": {},
     "output_type": "display_data"
    },
    {
     "data": {
      "application/vnd.jupyter.widget-view+json": {
       "model_id": "197dfaa382a845b0b19d320498766acf",
       "version_major": 2,
       "version_minor": 0
      },
      "text/plain": [
       "Validation: |          | 0/? [00:00<?, ?it/s]"
      ]
     },
     "metadata": {},
     "output_type": "display_data"
    },
    {
     "data": {
      "application/vnd.jupyter.widget-view+json": {
       "model_id": "e548faeb4cea43b8b241dcef8304f692",
       "version_major": 2,
       "version_minor": 0
      },
      "text/plain": [
       "Validation: |          | 0/? [00:00<?, ?it/s]"
      ]
     },
     "metadata": {},
     "output_type": "display_data"
    },
    {
     "data": {
      "application/vnd.jupyter.widget-view+json": {
       "model_id": "67baf92f4d6b4f539e4004133217f9f6",
       "version_major": 2,
       "version_minor": 0
      },
      "text/plain": [
       "Validation: |          | 0/? [00:00<?, ?it/s]"
      ]
     },
     "metadata": {},
     "output_type": "display_data"
    },
    {
     "data": {
      "application/vnd.jupyter.widget-view+json": {
       "model_id": "16a1b1f69ddc48e2a5fa1f6b0eaae68b",
       "version_major": 2,
       "version_minor": 0
      },
      "text/plain": [
       "Validation: |          | 0/? [00:00<?, ?it/s]"
      ]
     },
     "metadata": {},
     "output_type": "display_data"
    },
    {
     "data": {
      "application/vnd.jupyter.widget-view+json": {
       "model_id": "e3c5e8bcb2724da49cc7dc379c35f983",
       "version_major": 2,
       "version_minor": 0
      },
      "text/plain": [
       "Validation: |          | 0/? [00:00<?, ?it/s]"
      ]
     },
     "metadata": {},
     "output_type": "display_data"
    },
    {
     "data": {
      "application/vnd.jupyter.widget-view+json": {
       "model_id": "ccacd1ecb6644060927385e2493a115a",
       "version_major": 2,
       "version_minor": 0
      },
      "text/plain": [
       "Validation: |          | 0/? [00:00<?, ?it/s]"
      ]
     },
     "metadata": {},
     "output_type": "display_data"
    },
    {
     "data": {
      "application/vnd.jupyter.widget-view+json": {
       "model_id": "4903bd3851f94acea679d50f5aeed1d5",
       "version_major": 2,
       "version_minor": 0
      },
      "text/plain": [
       "Validation: |          | 0/? [00:00<?, ?it/s]"
      ]
     },
     "metadata": {},
     "output_type": "display_data"
    },
    {
     "data": {
      "application/vnd.jupyter.widget-view+json": {
       "model_id": "92b987b2b25d46bba11bdb2ee6be1602",
       "version_major": 2,
       "version_minor": 0
      },
      "text/plain": [
       "Validation: |          | 0/? [00:00<?, ?it/s]"
      ]
     },
     "metadata": {},
     "output_type": "display_data"
    },
    {
     "data": {
      "application/vnd.jupyter.widget-view+json": {
       "model_id": "a6e971e2c580442b8b81abf71a9abcdd",
       "version_major": 2,
       "version_minor": 0
      },
      "text/plain": [
       "Validation: |          | 0/? [00:00<?, ?it/s]"
      ]
     },
     "metadata": {},
     "output_type": "display_data"
    },
    {
     "data": {
      "application/vnd.jupyter.widget-view+json": {
       "model_id": "f918fdf52b894991a9fc24d2773212db",
       "version_major": 2,
       "version_minor": 0
      },
      "text/plain": [
       "Validation: |          | 0/? [00:00<?, ?it/s]"
      ]
     },
     "metadata": {},
     "output_type": "display_data"
    },
    {
     "data": {
      "application/vnd.jupyter.widget-view+json": {
       "model_id": "5f3b0f9fe2004e55acd0f99aad1fab82",
       "version_major": 2,
       "version_minor": 0
      },
      "text/plain": [
       "Validation: |          | 0/? [00:00<?, ?it/s]"
      ]
     },
     "metadata": {},
     "output_type": "display_data"
    },
    {
     "data": {
      "application/vnd.jupyter.widget-view+json": {
       "model_id": "913ef7069f96485fb507e7d226306de1",
       "version_major": 2,
       "version_minor": 0
      },
      "text/plain": [
       "Validation: |          | 0/? [00:00<?, ?it/s]"
      ]
     },
     "metadata": {},
     "output_type": "display_data"
    },
    {
     "data": {
      "application/vnd.jupyter.widget-view+json": {
       "model_id": "aecb0793ce7e4d0d9a9d6a6aa34d5b42",
       "version_major": 2,
       "version_minor": 0
      },
      "text/plain": [
       "Validation: |          | 0/? [00:00<?, ?it/s]"
      ]
     },
     "metadata": {},
     "output_type": "display_data"
    },
    {
     "data": {
      "application/vnd.jupyter.widget-view+json": {
       "model_id": "dd583e29928a4649a11c8dfb040f9729",
       "version_major": 2,
       "version_minor": 0
      },
      "text/plain": [
       "Validation: |          | 0/? [00:00<?, ?it/s]"
      ]
     },
     "metadata": {},
     "output_type": "display_data"
    },
    {
     "data": {
      "application/vnd.jupyter.widget-view+json": {
       "model_id": "6b8aca672b9f490f8e819ef7aa50024f",
       "version_major": 2,
       "version_minor": 0
      },
      "text/plain": [
       "Validation: |          | 0/? [00:00<?, ?it/s]"
      ]
     },
     "metadata": {},
     "output_type": "display_data"
    },
    {
     "data": {
      "application/vnd.jupyter.widget-view+json": {
       "model_id": "4356cdc708804db8a947af43aa672219",
       "version_major": 2,
       "version_minor": 0
      },
      "text/plain": [
       "Validation: |          | 0/? [00:00<?, ?it/s]"
      ]
     },
     "metadata": {},
     "output_type": "display_data"
    },
    {
     "data": {
      "application/vnd.jupyter.widget-view+json": {
       "model_id": "8a9c7291ed864ed98c44adbc88c03e7c",
       "version_major": 2,
       "version_minor": 0
      },
      "text/plain": [
       "Validation: |          | 0/? [00:00<?, ?it/s]"
      ]
     },
     "metadata": {},
     "output_type": "display_data"
    },
    {
     "data": {
      "application/vnd.jupyter.widget-view+json": {
       "model_id": "37c2a04b7e7b4c2387f94e929d58ed82",
       "version_major": 2,
       "version_minor": 0
      },
      "text/plain": [
       "Validation: |          | 0/? [00:00<?, ?it/s]"
      ]
     },
     "metadata": {},
     "output_type": "display_data"
    },
    {
     "data": {
      "application/vnd.jupyter.widget-view+json": {
       "model_id": "0b7610b83eaf48368676bd850a27ec83",
       "version_major": 2,
       "version_minor": 0
      },
      "text/plain": [
       "Validation: |          | 0/? [00:00<?, ?it/s]"
      ]
     },
     "metadata": {},
     "output_type": "display_data"
    },
    {
     "data": {
      "application/vnd.jupyter.widget-view+json": {
       "model_id": "d0c87689b2084f68b31f23d58eed4ba3",
       "version_major": 2,
       "version_minor": 0
      },
      "text/plain": [
       "Validation: |          | 0/? [00:00<?, ?it/s]"
      ]
     },
     "metadata": {},
     "output_type": "display_data"
    },
    {
     "data": {
      "application/vnd.jupyter.widget-view+json": {
       "model_id": "4a0ec2461ea247e88c85da175260684d",
       "version_major": 2,
       "version_minor": 0
      },
      "text/plain": [
       "Validation: |          | 0/? [00:00<?, ?it/s]"
      ]
     },
     "metadata": {},
     "output_type": "display_data"
    },
    {
     "data": {
      "application/vnd.jupyter.widget-view+json": {
       "model_id": "9f876a1ee9d34fe1a0d0006a6e7508e1",
       "version_major": 2,
       "version_minor": 0
      },
      "text/plain": [
       "Validation: |          | 0/? [00:00<?, ?it/s]"
      ]
     },
     "metadata": {},
     "output_type": "display_data"
    },
    {
     "data": {
      "application/vnd.jupyter.widget-view+json": {
       "model_id": "2a5b623eac51436687ea3fa8db0e2324",
       "version_major": 2,
       "version_minor": 0
      },
      "text/plain": [
       "Validation: |          | 0/? [00:00<?, ?it/s]"
      ]
     },
     "metadata": {},
     "output_type": "display_data"
    },
    {
     "data": {
      "application/vnd.jupyter.widget-view+json": {
       "model_id": "de966fdc9e3f43a4bf9b6b8c2a3b7dad",
       "version_major": 2,
       "version_minor": 0
      },
      "text/plain": [
       "Validation: |          | 0/? [00:00<?, ?it/s]"
      ]
     },
     "metadata": {},
     "output_type": "display_data"
    },
    {
     "data": {
      "application/vnd.jupyter.widget-view+json": {
       "model_id": "78b59559e2004e6c8798f3dc37a2a14e",
       "version_major": 2,
       "version_minor": 0
      },
      "text/plain": [
       "Validation: |          | 0/? [00:00<?, ?it/s]"
      ]
     },
     "metadata": {},
     "output_type": "display_data"
    },
    {
     "data": {
      "application/vnd.jupyter.widget-view+json": {
       "model_id": "7fd36b346c9044e594595bab995a33e1",
       "version_major": 2,
       "version_minor": 0
      },
      "text/plain": [
       "Validation: |          | 0/? [00:00<?, ?it/s]"
      ]
     },
     "metadata": {},
     "output_type": "display_data"
    },
    {
     "data": {
      "application/vnd.jupyter.widget-view+json": {
       "model_id": "035e278ac90c4d079ba6e8160b41dc5a",
       "version_major": 2,
       "version_minor": 0
      },
      "text/plain": [
       "Validation: |          | 0/? [00:00<?, ?it/s]"
      ]
     },
     "metadata": {},
     "output_type": "display_data"
    },
    {
     "data": {
      "application/vnd.jupyter.widget-view+json": {
       "model_id": "e3658ac1fe1943ae9a4644e1ae52cee6",
       "version_major": 2,
       "version_minor": 0
      },
      "text/plain": [
       "Validation: |          | 0/? [00:00<?, ?it/s]"
      ]
     },
     "metadata": {},
     "output_type": "display_data"
    },
    {
     "data": {
      "application/vnd.jupyter.widget-view+json": {
       "model_id": "f846792253ed4a209ef831322c321183",
       "version_major": 2,
       "version_minor": 0
      },
      "text/plain": [
       "Validation: |          | 0/? [00:00<?, ?it/s]"
      ]
     },
     "metadata": {},
     "output_type": "display_data"
    },
    {
     "data": {
      "application/vnd.jupyter.widget-view+json": {
       "model_id": "bcf0658df2564bb8bbd5379e59eb6aa9",
       "version_major": 2,
       "version_minor": 0
      },
      "text/plain": [
       "Validation: |          | 0/? [00:00<?, ?it/s]"
      ]
     },
     "metadata": {},
     "output_type": "display_data"
    },
    {
     "name": "stderr",
     "output_type": "stream",
     "text": [
      "`Trainer.fit` stopped: `max_epochs=100` reached.\n"
     ]
    }
   ],
   "source": [
    "from pytorch_lightning.loggers import TensorBoardLogger\n",
    "from datetime import datetime\n",
    "from pytorch_lightning.callbacks.progress.rich_progress import RichProgressBarTheme\n",
    "from pytorch_lightning.callbacks import RichProgressBar\n",
    "\n",
    "# Hyperparameters\n",
    "INPUT_SIZE = len(col_of_interest)\n",
    "HIDDEN_SIZE = 32\n",
    "NUM_LAYERS = 1\n",
    "NUM_CLASSES = 3\n",
    "LEARNING_RATE = 0.0001\n",
    "MODEL_TYPE = 'LSTM'\n",
    "DROPOUT = 0.3\n",
    "\n",
    "BATCH_SIZE = 64\n",
    "NUM_WORKERS = 4\n",
    "\n",
    "NUM_EPOCHS = 100\n",
    "GRAD_CLIP = 0.8\n",
    "OPT_STEP_SIZE = 20\n",
    "OPT_GAMMA = 0.9\n",
    "OPT_WD = 1e-7\n",
    "\n",
    "\n",
    "# Initialize the DataModule\n",
    "data_module = GazeDataModule(\n",
    "    train_ds, test_ds,\n",
    "    batch_size=BATCH_SIZE,\n",
    "    num_workers=NUM_WORKERS\n",
    ")\n",
    "\n",
    "# Initialize the model\n",
    "model = GazeRNN(\n",
    "    input_size=len(col_of_interest),\n",
    "    hidden_size=HIDDEN_SIZE, \n",
    "    num_layers=NUM_LAYERS,\n",
    "    num_classes=NUM_CLASSES, \n",
    "    learning_rate=LEARNING_RATE,\n",
    "    rnn_type=MODEL_TYPE,\n",
    "    opt_step_size=OPT_STEP_SIZE,\n",
    "    opt_gamma=OPT_GAMMA,\n",
    "    dropout=DROPOUT,\n",
    "    opt_wd=OPT_WD\n",
    ")\n",
    "\n",
    "# Checkpoint callback\n",
    "current_time = datetime.now().strftime('%Y-%m-%d_%H-%M')\n",
    "checkpoint_callback = pl.callbacks.ModelCheckpoint(\n",
    "    monitor='val_loss',\n",
    "    dirpath=f'checkpoints/{MODEL_TYPE}/{current_time}',\n",
    "    filename='gaze_rnn-{epoch:02d}-{val_loss:.2f}',\n",
    "    save_top_k=1,\n",
    "    mode='min',\n",
    ")\n",
    "\n",
    "# Initialize PyTorch Lightning trainer\n",
    "trainer = pl.Trainer(\n",
    "    max_epochs=NUM_EPOCHS, \n",
    "    accelerator='gpu', \n",
    "    enable_progress_bar=True,\n",
    "    logger=False,\n",
    "    enable_checkpointing=False,\n",
    "    #callbacks=[checkpoint_callback],\n",
    "    gradient_clip_val=GRAD_CLIP\n",
    ")\n",
    "\n",
    "# Train the model\n",
    "trainer.fit(model, data_module)"
   ]
  },
  {
   "cell_type": "code",
   "execution_count": null,
   "id": "5885d90115cd851b",
   "metadata": {
    "ExecuteTime": {
     "end_time": "2024-09-23T15:27:55.142623Z",
     "start_time": "2024-09-23T15:27:54.879605Z"
    }
   },
   "outputs": [],
   "source": [
    "# Load the best model from the checkpoint\n",
    "best_model = GazeRNN.load_from_checkpoint(\n",
    "    checkpoint_callback.best_model_path,\n",
    "    input_size=INPUT_SIZE,\n",
    "    hidden_size=HIDDEN_SIZE,\n",
    "    num_layers=NUM_LAYERS,\n",
    "    num_classes=NUM_CLASSES,\n",
    "    rnn_type=MODEL_TYPE,\n",
    "    dropout=DROPOUT,\n",
    "    learning_rate=LEARNING_RATE,\n",
    "    opt_step_size=OPT_STEP_SIZE,\n",
    "    opt_gamma=OPT_GAMMA\n",
    ")\n",
    "\n",
    "# Predict on the validation set and set device to GPU\n",
    "device = torch.device('cuda' if torch.cuda.is_available() else 'cpu')\n",
    "best_model.to(device)\n",
    "best_model.eval()\n",
    "\n",
    "# Initialize the DataLoader for the validation set\n",
    "val_loader = data_module.val_dataloader()\n",
    "\n",
    "# Predict on the validation set\n",
    "y_true = []\n",
    "y_pred = []\n",
    "for inputs, labels in val_loader:\n",
    "    inputs = inputs.to(device)\n",
    "    labels = labels.to(device)\n",
    "    outputs = best_model(inputs)\n",
    "    _, predicted = torch.max(outputs, 1)\n",
    "    y_true.extend(labels.cpu().numpy())\n",
    "    y_pred.extend(predicted.cpu().numpy())\n",
    "    \n",
    "# Calculate the accuracy\n",
    "accuracy = np.mean(np.array(y_true) == np.array(y_pred))\n",
    "print(f\"Validation Accuracy: {accuracy}\")"
   ]
  },
  {
   "cell_type": "code",
   "execution_count": null,
   "id": "20bc6b132cb9c6ab",
   "metadata": {
    "ExecuteTime": {
     "end_time": "2024-09-23T15:27:56.806816Z",
     "start_time": "2024-09-23T15:27:56.305928Z"
    }
   },
   "outputs": [],
   "source": [
    "# Plot the confusion matrix\n",
    "import matplotlib.pyplot as plt\n",
    "from sklearn.metrics import confusion_matrix, accuracy_score\n",
    "import seaborn as sns\n",
    "\n",
    "cm = confusion_matrix(y_true, y_pred)\n",
    "plt.figure(figsize=(8, 6))\n",
    "sns.heatmap(cm, annot=True, fmt='d', xticklabels=GazeDataset.CLASS_MAP.keys(), yticklabels=GazeDataset.CLASS_MAP.keys(), cmap='Blues')\n",
    "plt.xlabel('Predicted')\n",
    "plt.ylabel('True')\n",
    "plt.title('Confusion Matrix')\n",
    "plt.show()"
   ]
  },
  {
   "cell_type": "code",
   "execution_count": 69,
   "id": "7c30defb8c8a73b3",
   "metadata": {
    "ExecuteTime": {
     "end_time": "2024-09-23T15:27:58.264252Z",
     "start_time": "2024-09-23T15:27:58.241269Z"
    }
   },
   "outputs": [],
   "source": [
    "import pandas as pd\n",
    "import zmq\n",
    "import cv2\n",
    "import numpy as np\n",
    "from PIL import Image\n",
    "import msgpack\n",
    "\n",
    "\n",
    "class PupilCapture:\n",
    "\n",
    "    def __init__(self, ip='localhost', port=50020):\n",
    "        self.ctx = zmq.Context()\n",
    "        # The REQ talks to Pupil remote and receives the session unique IPC SUB PORT\n",
    "        self.pupil_remote = self.ctx.socket(zmq.REQ)\n",
    "        self.ip = ip\n",
    "\n",
    "        self.pupil_remote.connect(f'tcp://{self.ip}:{port}')\n",
    "\n",
    "        # Request 'SUB_PORT' for reading data\n",
    "        self.pupil_remote.send_string('SUB_PORT')\n",
    "        self.sub_port = self.pupil_remote.recv_string()\n",
    "\n",
    "        # Request 'PUB_PORT' for writing data\n",
    "        self.pupil_remote.send_string('PUB_PORT')\n",
    "        self.pub_port = self.pupil_remote.recv_string()\n",
    "\n",
    "\n",
    "\n",
    "    def receive_frame_world_image(self, num_frames=1):\n",
    "        sub_frame_world = self.ctx.socket(zmq.SUB)\n",
    "        sub_frame_world.connect(f'tcp://{self.ip}:{self.sub_port}')\n",
    "        sub_frame_world.subscribe(\"frame.world\")\n",
    "\n",
    "        frames = []\n",
    "        for _ in range(num_frames):\n",
    "            frame = sub_frame_world.recv_multipart()\n",
    "            image_bytes = frame[2]\n",
    "            decoded_frame = cv2.imdecode(np.frombuffer(image_bytes, dtype=np.uint8), cv2.IMREAD_COLOR)\n",
    "            rgb_frame = cv2.cvtColor(decoded_frame, cv2.COLOR_BGR2RGB)\n",
    "            img = Image.fromarray(rgb_frame)\n",
    "            frames.append(img)\n",
    "        return frames\n",
    "\n",
    "    def receive_gaze_3d_position(self, num_gazes=1):\n",
    "        subscriber = self.ctx.socket(zmq.SUB)\n",
    "        subscriber.connect(f'tcp://{self.ip}:{self.sub_port}')\n",
    "        subscriber.subscribe('gaze.')  # receive all gaze messages\n",
    "\n",
    "        gazes = []\n",
    "        for _ in range(num_gazes):\n",
    "            topic, payload = subscriber.recv_multipart()\n",
    "            message = msgpack.loads(payload)\n",
    "            gaze = message['gaze_point_3d'.encode()]\n",
    "            gazes.append(gaze)\n",
    "        return gazes"
   ]
  },
  {
   "cell_type": "code",
   "execution_count": null,
   "id": "8ea8cf0dac37f9fc",
   "metadata": {
    "ExecuteTime": {
     "end_time": "2024-09-23T15:33:11.027059Z",
     "start_time": "2024-09-23T15:33:04.614645Z"
    }
   },
   "outputs": [],
   "source": [
    "pupil_cap = PupilCapture()\n",
    "\n",
    "for i in range(20):\n",
    "    gaze_sample = pupil_cap.receive_gaze_3d_position(60)\n",
    "    gaze_sample = np.array(gaze_sample)\n",
    "    # downsample from 120 Hz to 30 Hz\n",
    "    scaler_1 = StandardScaler()\n",
    "    # scale column wise\n",
    "    gaze_sample = scaler_1.fit_transform(gaze_sample.reshape(-1, gaze_sample.shape[-1])).reshape(gaze_sample.shape)\n",
    "    gaze_sample = torch.tensor(gaze_sample, dtype=torch.float32).unsqueeze(0)\n",
    "    \n",
    "    best_model.eval()\n",
    "    with torch.no_grad():\n",
    "        gaze_sample = gaze_sample.to(device)\n",
    "        outputs = best_model(gaze_sample)\n",
    "        _, predicted = torch.max(outputs, 1)\n",
    "    predicted_class = list(GazeDataset.CLASS_MAP.keys())[predicted.item()]\n",
    "    print(f\"Predicted class: {predicted_class}\")"
   ]
  },
  {
   "cell_type": "code",
   "execution_count": null,
   "id": "7fba58fa4c948473",
   "metadata": {
    "ExecuteTime": {
     "end_time": "2024-09-23T15:30:33.810891Z",
     "start_time": "2024-09-23T15:30:33.804748Z"
    }
   },
   "outputs": [],
   "source": []
  },
  {
   "cell_type": "code",
   "execution_count": null,
   "id": "e67297573fed6648",
   "metadata": {},
   "outputs": [],
   "source": []
  }
 ],
 "metadata": {
  "kernelspec": {
   "display_name": ".venv",
   "language": "python",
   "name": "python3"
  },
  "language_info": {
   "codemirror_mode": {
    "name": "ipython",
    "version": 3
   },
   "file_extension": ".py",
   "mimetype": "text/x-python",
   "name": "python",
   "nbconvert_exporter": "python",
   "pygments_lexer": "ipython3",
   "version": "3.8.19"
  }
 },
 "nbformat": 4,
 "nbformat_minor": 5
}
