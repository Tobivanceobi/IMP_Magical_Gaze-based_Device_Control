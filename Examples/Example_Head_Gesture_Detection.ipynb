{
 "cells": [
  {
   "metadata": {
    "ExecuteTime": {
     "end_time": "2024-11-19T13:43:04.899266Z",
     "start_time": "2024-11-19T13:43:03.907460Z"
    }
   },
   "cell_type": "code",
   "source": [
    "import pprint\n",
    "import time\n",
    "\n",
    "import zmq\n",
    "from sympy.physics.units import current\n",
    "\n",
    "ctx = zmq.Context()\n",
    "# The REQ talks to Pupil remote and receives the session unique IPC SUB PORT\n",
    "socket = ctx.socket(zmq.REQ)\n",
    "\n",
    "ip = 'localhost'\n",
    "port = 50020\n",
    "\n",
    "socket.connect(f'tcp://{ip}:{port}')\n",
    "\n",
    "# Request 'SUB_PORT' for reading data\n",
    "socket.send_string('SUB_PORT')\n",
    "sub_port = socket.recv_string()\n",
    "\n",
    "# Request 'PUB_PORT' for writing data\n",
    "socket.send_string('PUB_PORT')\n",
    "pub_port = socket.recv_string()\n",
    "\n",
    "socket.close()"
   ],
   "id": "b0ad4b5f51656208",
   "outputs": [],
   "execution_count": 2
  },
  {
   "metadata": {
    "ExecuteTime": {
     "end_time": "2024-11-19T13:43:04.916517Z",
     "start_time": "2024-11-19T13:43:04.907855Z"
    }
   },
   "cell_type": "code",
   "source": [
    "def create_socket(ctx_c, ip_c, port_sub, topics):\n",
    "    sub = ctx_c.socket(zmq.SUB)\n",
    "    sub.connect(f'tcp://{ip_c}:{port_sub}')\n",
    "    for topic in topics:\n",
    "        sub.subscribe(topic)\n",
    "    return sub"
   ],
   "id": "fa730f2790803a16",
   "outputs": [],
   "execution_count": 3
  },
  {
   "metadata": {
    "ExecuteTime": {
     "end_time": "2024-11-19T13:43:38.673538Z",
     "start_time": "2024-11-19T13:43:36.561113Z"
    }
   },
   "cell_type": "code",
   "source": [
    "import msgpack\n",
    "import numpy as np\n",
    "from Examples.src.MovementTracker import MovementTracker\n",
    "\n",
    "# Receive real-time gaze data\n",
    "gaze_socket = create_socket(ctx, 'localhost', sub_port, ['gaze.'])\n",
    "fixation_socket = create_socket(ctx, 'localhost', sub_port, ['fixation'])\n",
    "\n",
    "topic, payload = fixation_socket.recv_multipart()\n",
    "origin = msgpack.loads(payload)\n",
    "origin = origin.get('norm_pos', None)\n",
    "print(f\"Fixation data: {origin}\")\n",
    "\n",
    "# compute the distance between the origin and the center of the screen (0.5, 0.5)\n",
    "distance = np.linalg.norm(np.array(origin) - np.array([0.5, 0.5]))\n",
    "if distance > 0.1:\n",
    "    print(\"Lamp Off\")\n",
    "\n",
    "tracker = MovementTracker(origin, threshold=100, min_dist=0.01, max_dist=0.2, epsilon=0.1)\n",
    "\n",
    "# Real-time processing loop\n",
    "while True:\n",
    "    norm_pos = []\n",
    "    for i in range(5):\n",
    "        topic, payload = gaze_socket.recv_multipart()\n",
    "        message = msgpack.loads(payload)\n",
    "        norm_pos.append(message.get('norm_pos', None))\n",
    "    norm_pos = np.array(norm_pos).mean(axis=0)\n",
    "    result = tracker.update(norm_pos)\n",
    "    if result is None:\n",
    "        break\n",
    "    if result and result['returned']:\n",
    "        print(result)\n",
    "        break\n"
   ],
   "id": "3e84590baa880862",
   "outputs": [
    {
     "name": "stdout",
     "output_type": "stream",
     "text": [
      "Fixation data: [0.4812265428191148, 0.32904399426611924]\n",
      "Lamp Off\n",
      "{'moved': True, 'direction': 'right', 'returned': True}\n"
     ]
    }
   ],
   "execution_count": 7
  },
  {
   "metadata": {},
   "cell_type": "code",
   "source": [
    "# Receive real-time gaze data\n",
    "gaze_socket = create_socket(ctx, 'localhost', sub_port, ['gaze.'])\n",
    "fixation_socket = create_socket(ctx, 'localhost', sub_port, ['fixation'])\n",
    "\n",
    "topic, payload = fixation_socket.recv_multipart()\n",
    "origin = msgpack.loads(payload)\n",
    "origin = origin.get('norm_pos', None)\n",
    "print(f\"Fixation data: {origin}\")\n",
    "\n",
    "# compute the distance between the origin and the center of the screen (0.5, 0.5)\n",
    "distance = np.linalg.norm(np.array(origin) - np.array([0.5, 0.5]))\n",
    "print(f\"Distance: {distance}\")\n",
    "if distance > 0.35:\n",
    "    print(\"Lamp Off\")"
   ],
   "id": "82bb7fb562f232e0",
   "outputs": [],
   "execution_count": null
  },
  {
   "metadata": {},
   "cell_type": "code",
   "source": "",
   "id": "33483935765ea69a",
   "outputs": [],
   "execution_count": null
  },
  {
   "metadata": {},
   "cell_type": "code",
   "source": "",
   "id": "e6f8385115341e30",
   "outputs": [],
   "execution_count": null
  }
 ],
 "metadata": {
  "kernelspec": {
   "display_name": "Python 3",
   "language": "python",
   "name": "python3"
  },
  "language_info": {
   "codemirror_mode": {
    "name": "ipython",
    "version": 2
   },
   "file_extension": ".py",
   "mimetype": "text/x-python",
   "name": "python",
   "nbconvert_exporter": "python",
   "pygments_lexer": "ipython2",
   "version": "2.7.6"
  }
 },
 "nbformat": 4,
 "nbformat_minor": 5
}
