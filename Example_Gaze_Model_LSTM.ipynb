{
 "cells": [
  {
   "cell_type": "code",
   "id": "initial_id",
   "metadata": {
    "collapsed": true,
    "ExecuteTime": {
     "end_time": "2024-09-23T13:48:58.920301Z",
     "start_time": "2024-09-23T13:48:58.915380Z"
    }
   },
   "source": [
    "from sympy.physics.units import current\n",
    "from torchmetrics.functional import accuracy\n",
    "\n",
    "\n",
    "class Config:\n",
    "    DATASET_PATH = \"../Eye_Gaze_Models/RawGazeData/\"\n",
    "    \n",
    "conf = Config()"
   ],
   "outputs": [],
   "execution_count": 7
  },
  {
   "metadata": {
    "ExecuteTime": {
     "end_time": "2024-09-23T13:48:58.952416Z",
     "start_time": "2024-09-23T13:48:58.927094Z"
    }
   },
   "cell_type": "code",
   "source": [
    "from sklearn.preprocessing import StandardScaler\n",
    "import os\n",
    "import numpy as np\n",
    "import pandas as pd\n",
    "from torch.utils.data import Dataset\n",
    "\n",
    "class GazeDataset(Dataset):\n",
    "    CLASS_MAP = {\n",
    "        'Inspection': 0,\n",
    "        'Reading': 1,\n",
    "        'Search': 2,\n",
    "    }\n",
    "    def __init__(self, data_files, selected_cols, seq_len, transform=None, interpolation_method='linear'):\n",
    "        self.data_files = data_files\n",
    "        self.selected_cols = selected_cols\n",
    "        self.seq_len = seq_len\n",
    "        self.transform = transform\n",
    "        self.interpolation_method = interpolation_method\n",
    "        \n",
    "        self.data = []\n",
    "        self.labels = []\n",
    "        self.participant_ids = []\n",
    "        \n",
    "        for file in self.data_files:\n",
    "            participant_id = file.split('/')[-1].split('_')[0]\n",
    "            label = file.split('/')[-1].split('_')[1].split('.')[0]\n",
    "            \n",
    "            data = self.load_single_file(file)\n",
    "            data = self.interpolate_data(data)\n",
    "            sequences = self.split_data_into_sequences(data)\n",
    "            \n",
    "            sequences = np.array(sequences).astype(np.float32)\n",
    "            \n",
    "            self.data.extend(sequences)  # Append sequences to the dataset\n",
    "            self.labels.extend([int(self.CLASS_MAP[label])] * len(sequences))\n",
    "            self.participant_ids.extend([int(participant_id)] * len(sequences))\n",
    "            \n",
    "        self.data = np.array(self.data)\n",
    "        self.labels = np.array(self.labels)\n",
    "        self.participant_ids = np.array(self.participant_ids)\n",
    "        \n",
    "    def load_single_file(self, file):\n",
    "        data = pd.read_csv(file)\n",
    "        data = data[self.selected_cols]\n",
    "        return data\n",
    "    \n",
    "    def interpolate_data(self, data):\n",
    "        # Interpolate missing values using the specified method\n",
    "        data_interpolated = data.interpolate(method=self.interpolation_method, limit_direction='both')\n",
    "        # Fill any remaining NaNs using forward fill and backward fill\n",
    "        data_interpolated = data_interpolated.bfill().ffill()\n",
    "        return data_interpolated.values\n",
    "    \n",
    "    def split_data_into_sequences(self, data):\n",
    "        # split the data into sequences of length seq_len.\n",
    "        sequences = [data[i:i + self.seq_len] for i in range(0, len(data), self.seq_len)]\n",
    "        # remove the last sequence if it is not of length seq_len\n",
    "        if len(sequences[-1]) != self.seq_len:\n",
    "            sequences.pop()\n",
    "        return sequences\n",
    "\n",
    "    def __len__(self):\n",
    "        return len(self.data)\n",
    "\n",
    "    def __getitem__(self, idx):\n",
    "        sample = self.data[idx]\n",
    "        label = self.labels[idx]\n",
    "        \n",
    "        if self.transform:\n",
    "            sample = self.transform(sample)\n",
    "        \n",
    "        return sample, label\n"
   ],
   "id": "163ab3d7fe65747e",
   "outputs": [],
   "execution_count": 8
  },
  {
   "metadata": {
    "ExecuteTime": {
     "end_time": "2024-09-23T13:48:59.010943Z",
     "start_time": "2024-09-23T13:48:58.983823Z"
    }
   },
   "cell_type": "code",
   "source": [
    "import torch\n",
    "import torch.nn as nn\n",
    "import pytorch_lightning as pl\n",
    "from torch.utils.data import DataLoader\n",
    "import torch.optim as optim\n",
    "from torchmetrics import Accuracy\n",
    "\n",
    "# Define the PyTorch Lightning Module\n",
    "class GazeRNN(pl.LightningModule):\n",
    "    def __init__(self, \n",
    "                 input_size, \n",
    "                 hidden_size, \n",
    "                 num_layers, \n",
    "                 num_classes, \n",
    "                 rnn_type='LSTM',\n",
    "                 dropout=0,\n",
    "                 learning_rate=0.001,\n",
    "                 opt_step_size=5,\n",
    "                 opt_gamma=0.1):\n",
    "        super(GazeRNN, self).__init__()\n",
    "        self.hidden_size = hidden_size\n",
    "        self.num_layers = num_layers\n",
    "        self.learning_rate = learning_rate\n",
    "        self.opt_step_size = opt_step_size\n",
    "        self.opt_gamma = opt_gamma\n",
    "\n",
    "        # Choose between LSTM, GRU, or vanilla RNN\n",
    "        if rnn_type == 'LSTM':\n",
    "            self.rnn = nn.LSTM(input_size, hidden_size, num_layers, batch_first=True, dropout=dropout)\n",
    "        elif rnn_type == 'GRU':\n",
    "            self.rnn = nn.GRU(input_size, hidden_size, num_layers, batch_first=True)\n",
    "        else:\n",
    "            self.rnn = nn.RNN(input_size, hidden_size, num_layers, batch_first=True)\n",
    "\n",
    "        # Fully connected layer for classification\n",
    "        self.fc = nn.Linear(hidden_size, num_classes)\n",
    "\n",
    "        # Loss function\n",
    "        self.criterion = nn.CrossEntropyLoss()\n",
    "\n",
    "        # Accuracy metric\n",
    "        self.train_acc = Accuracy(task=\"multiclass\", num_classes=num_classes)\n",
    "        self.val_acc = Accuracy(task=\"multiclass\", num_classes=num_classes)\n",
    "\n",
    "    def forward(self, x):\n",
    "        h0 = torch.zeros(self.num_layers, x.size(0), self.hidden_size).to(x.device)\n",
    "        if isinstance(self.rnn, nn.LSTM):\n",
    "            c0 = torch.zeros(self.num_layers, x.size(0), self.hidden_size).to(x.device)\n",
    "            out, _ = self.rnn(x, (h0, c0))\n",
    "        else:\n",
    "            out, _ = self.rnn(x, h0)\n",
    "\n",
    "        # Take the last time-step's output\n",
    "        out = out[:, -1, :]\n",
    "        out = self.fc(out)\n",
    "        return out\n",
    "\n",
    "    def training_step(self, batch, batch_idx):\n",
    "        inputs, labels = batch\n",
    "        outputs = self(inputs)\n",
    "        loss = self.criterion(outputs, labels)\n",
    "        acc = self.train_acc(outputs, labels)\n",
    "        self.log('train_loss', loss, on_step=True, on_epoch=True, prog_bar=True)\n",
    "        self.log('train_acc', acc, on_step=True, on_epoch=True, prog_bar=True)\n",
    "        return loss\n",
    "\n",
    "    def validation_step(self, batch, batch_idx):\n",
    "        inputs, labels = batch\n",
    "        outputs = self(inputs)\n",
    "        loss = self.criterion(outputs, labels)\n",
    "        acc = self.val_acc(outputs, labels)\n",
    "        self.log('val_loss', loss, on_step=True, on_epoch=True, prog_bar=True)\n",
    "        self.log('val_acc', acc, on_step=False, on_epoch=True, prog_bar=True)\n",
    "        self.log('lr', self.trainer.optimizers[0].param_groups[0]['lr'], on_epoch=True, prog_bar=True)\n",
    "        return loss\n",
    "\n",
    "    def configure_optimizers(self):\n",
    "        optimizer = optim.Adam(self.parameters(), lr=self.learning_rate)\n",
    "        scheduler = optim.lr_scheduler.StepLR(optimizer, step_size=self.opt_step_size, gamma=self.opt_gamma)\n",
    "        return [optimizer], [scheduler]\n"
   ],
   "id": "1bfe2f64538f2043",
   "outputs": [],
   "execution_count": 9
  },
  {
   "metadata": {
    "ExecuteTime": {
     "end_time": "2024-09-23T13:48:59.060007Z",
     "start_time": "2024-09-23T13:48:59.051217Z"
    }
   },
   "cell_type": "code",
   "source": [
    "import os\n",
    "import pytorch_lightning as pl\n",
    "from torch.utils.data import DataLoader\n",
    "from sklearn.model_selection import train_test_split\n",
    "\n",
    "class GazeDataModule(pl.LightningDataModule):\n",
    "    def __init__(self, ds_train, ds_val, batch_size=64, num_workers=4):\n",
    "        super(GazeDataModule, self).__init__()\n",
    "        self.ds_train = ds_train\n",
    "        self.ds_val = ds_val\n",
    "        self.batch_size = batch_size\n",
    "        self.num_workers = num_workers\n",
    "\n",
    "    def train_dataloader(self):\n",
    "        return DataLoader(self.ds_train, batch_size=self.batch_size, shuffle=True, num_workers=self.num_workers)\n",
    "\n",
    "    def val_dataloader(self):\n",
    "        return DataLoader(self.ds_val, batch_size=self.batch_size, shuffle=False, num_workers=self.num_workers)\n"
   ],
   "id": "2a5857d37f02b6cc",
   "outputs": [],
   "execution_count": 10
  },
  {
   "metadata": {
    "ExecuteTime": {
     "end_time": "2024-09-23T13:49:01.017574Z",
     "start_time": "2024-09-23T13:48:59.108732Z"
    }
   },
   "cell_type": "code",
   "source": [
    "import pickle\n",
    "\n",
    "col_of_interest = [\n",
    "    # 'gazeOrigin_x', 'gazeOrigin_y', 'gazeOrigin_z', \n",
    "    'gazeDirection_x', 'gazeDirection_y', 'gazeDirection_z', \n",
    "    # 'gazePoint_x', 'gazePoint_y', 'gazePoint_z', \n",
    "    # 'gazePoint_target_x', 'gazePoint_target_y', 'gazePoint_target_z',\n",
    "    # 'gazePoint_target_pos_x', 'gazePoint_target_pos_y', 'gazePoint_target_pos_z',\n",
    "    # 'gazePoint_target_rot_x', 'gazePoint_target_rot_y', 'gazePoint_target_rot_z',\n",
    "    # 'gazePointMonoScreen_x', 'gazePointMonoScreen_y', 'gazePointMonoScreen_z',\n",
    "    # 'gazePoint_target_scale_x', 'gazePoint_target_scale_y', 'gazePoint_target_scale_z', \n",
    "    # 'gazePointLeftScreen_x', 'gazePointLeftScreen_y', 'gazePointLeftScreen_z', \n",
    "    # 'gazePointRightScreen_x', 'gazePointRightScreen_y', 'gazePointRightScreen_z'\n",
    "]\n",
    "\n",
    "dir_files = os.listdir(conf.DATASET_PATH)\n",
    "test_participants = ['01', '02', '03', '04', '05']\n",
    "train_files = [os.path.join(conf.DATASET_PATH, f) for f in dir_files if f.split('_')[0] not in test_participants]\n",
    "test_files = [os.path.join(conf.DATASET_PATH, f) for f in dir_files if f.split('_')[0] in test_participants]\n",
    "\n",
    "train_ds = GazeDataset(train_files, col_of_interest, 60)\n",
    "test_ds = GazeDataset(test_files, col_of_interest, 60)\n",
    "\n",
    "scaler = StandardScaler()\n",
    "all_data = np.concatenate([train_ds.data, test_ds.data])\n",
    "scaler.fit(all_data.reshape(-1, all_data.shape[-1]))\n",
    "\n",
    "with open('.local/scaler.pickle', 'wb') as f:\n",
    "    pickle.dump(scaler, f)\n",
    "    \n",
    "train_ds.data = scaler.transform(train_ds.data.reshape(-1, train_ds.data.shape[-1])).reshape(train_ds.data.shape)\n",
    "test_ds.data = scaler.transform(test_ds.data.reshape(-1, test_ds.data.shape[-1])).reshape(test_ds.data.shape)\n",
    "\n",
    "print(f\"Number of samples in train dataset: {len(train_ds)}\")\n",
    "print(f\"Number of samples in test dataset: {len(test_ds)}\")"
   ],
   "id": "4b6e04a8f806e5de",
   "outputs": [
    {
     "name": "stdout",
     "output_type": "stream",
     "text": [
      "Number of samples in train dataset: 1526\n",
      "Number of samples in test dataset: 492\n"
     ]
    }
   ],
   "execution_count": 11
  },
  {
   "metadata": {
    "ExecuteTime": {
     "end_time": "2024-09-23T13:50:35.203698Z",
     "start_time": "2024-09-23T13:50:02.828288Z"
    }
   },
   "cell_type": "code",
   "source": [
    "from pytorch_lightning.loggers import TensorBoardLogger\n",
    "from datetime import datetime\n",
    "from pytorch_lightning.callbacks.progress.rich_progress import RichProgressBarTheme\n",
    "from pytorch_lightning.callbacks import RichProgressBar\n",
    "\n",
    "# Hyperparameters\n",
    "INPUT_SIZE = len(col_of_interest)\n",
    "HIDDEN_SIZE = 32\n",
    "NUM_LAYERS = 2\n",
    "NUM_CLASSES = 3\n",
    "LEARNING_RATE = 0.001\n",
    "MODEL_TYPE = 'LSTM'\n",
    "DROPOUT = 0\n",
    "\n",
    "BATCH_SIZE = 64\n",
    "NUM_WORKERS = 4\n",
    "\n",
    "NUM_EPOCHS = 50\n",
    "OPT_STEP_SIZE = 5\n",
    "OPT_GAMMA = 0.8\n",
    "\n",
    "\n",
    "# Initialize the DataModule\n",
    "data_module = GazeDataModule(\n",
    "    train_ds, test_ds,\n",
    "    batch_size=BATCH_SIZE,\n",
    "    num_workers=NUM_WORKERS\n",
    ")\n",
    "\n",
    "# Initialize the model\n",
    "model = GazeRNN(\n",
    "    input_size=len(col_of_interest),\n",
    "    hidden_size=HIDDEN_SIZE, \n",
    "    num_layers=NUM_LAYERS,\n",
    "    num_classes=NUM_CLASSES, \n",
    "    learning_rate=LEARNING_RATE,\n",
    "    rnn_type=MODEL_TYPE,\n",
    "    opt_step_size=OPT_STEP_SIZE,\n",
    "    opt_gamma=OPT_GAMMA,\n",
    "    dropout=DROPOUT\n",
    ")\n",
    "\n",
    "# Checkpoint callback\n",
    "current_time = datetime.now().strftime('%Y-%m-%d_%H-%M')\n",
    "checkpoint_callback = pl.callbacks.ModelCheckpoint(\n",
    "    monitor='val_loss',\n",
    "    dirpath=f'checkpoints/{MODEL_TYPE}/{current_time}',\n",
    "    filename='gaze_rnn-{epoch:02d}-{val_loss:.2f}',\n",
    "    save_top_k=1,\n",
    "    mode='min',\n",
    ")\n",
    "\n",
    "# Initialize PyTorch Lightning trainer\n",
    "trainer = pl.Trainer(\n",
    "    max_epochs=NUM_EPOCHS, \n",
    "    accelerator='gpu', \n",
    "    enable_progress_bar=True,\n",
    "    logger=False,\n",
    "    enable_checkpointing=True,\n",
    "    callbacks=[checkpoint_callback]\n",
    ")\n",
    "\n",
    "# Train the model\n",
    "trainer.fit(model, data_module)"
   ],
   "id": "c18083b810a2d156",
   "outputs": [
    {
     "name": "stderr",
     "output_type": "stream",
     "text": [
      "GPU available: True (cuda), used: True\n",
      "TPU available: False, using: 0 TPU cores\n",
      "HPU available: False, using: 0 HPUs\n",
      "LOCAL_RANK: 0 - CUDA_VISIBLE_DEVICES: [0]\n",
      "\n",
      "  | Name      | Type               | Params | Mode \n",
      "---------------------------------------------------------\n",
      "0 | rnn       | LSTM               | 13.2 K | train\n",
      "1 | fc        | Linear             | 99     | train\n",
      "2 | criterion | CrossEntropyLoss   | 0      | train\n",
      "3 | train_acc | MulticlassAccuracy | 0      | train\n",
      "4 | val_acc   | MulticlassAccuracy | 0      | train\n",
      "---------------------------------------------------------\n",
      "13.3 K    Trainable params\n",
      "0         Non-trainable params\n",
      "13.3 K    Total params\n",
      "0.053     Total estimated model params size (MB)\n",
      "5         Modules in train mode\n",
      "0         Modules in eval mode\n"
     ]
    },
    {
     "data": {
      "text/plain": [
       "Sanity Checking: |          | 0/? [00:00<?, ?it/s]"
      ],
      "application/vnd.jupyter.widget-view+json": {
       "version_major": 2,
       "version_minor": 0,
       "model_id": "2066434194df4baaa10b1bf400b21ddf"
      }
     },
     "metadata": {},
     "output_type": "display_data"
    },
    {
     "data": {
      "text/plain": [
       "Training: |          | 0/? [00:00<?, ?it/s]"
      ],
      "application/vnd.jupyter.widget-view+json": {
       "version_major": 2,
       "version_minor": 0,
       "model_id": "af2602b0b2ad4987bbb11cab5b04cd23"
      }
     },
     "metadata": {},
     "output_type": "display_data"
    },
    {
     "data": {
      "text/plain": [
       "Validation: |          | 0/? [00:00<?, ?it/s]"
      ],
      "application/vnd.jupyter.widget-view+json": {
       "version_major": 2,
       "version_minor": 0,
       "model_id": "3ed817b3c36549bf83b2ff2a3a3f6299"
      }
     },
     "metadata": {},
     "output_type": "display_data"
    },
    {
     "data": {
      "text/plain": [
       "Validation: |          | 0/? [00:00<?, ?it/s]"
      ],
      "application/vnd.jupyter.widget-view+json": {
       "version_major": 2,
       "version_minor": 0,
       "model_id": "24f333c15f3a4fa1a7a1e5b708569759"
      }
     },
     "metadata": {},
     "output_type": "display_data"
    },
    {
     "data": {
      "text/plain": [
       "Validation: |          | 0/? [00:00<?, ?it/s]"
      ],
      "application/vnd.jupyter.widget-view+json": {
       "version_major": 2,
       "version_minor": 0,
       "model_id": "9094eeda67204e99892499568bfedfb2"
      }
     },
     "metadata": {},
     "output_type": "display_data"
    },
    {
     "data": {
      "text/plain": [
       "Validation: |          | 0/? [00:00<?, ?it/s]"
      ],
      "application/vnd.jupyter.widget-view+json": {
       "version_major": 2,
       "version_minor": 0,
       "model_id": "71ab8800e261457c86417a867f5be730"
      }
     },
     "metadata": {},
     "output_type": "display_data"
    },
    {
     "data": {
      "text/plain": [
       "Validation: |          | 0/? [00:00<?, ?it/s]"
      ],
      "application/vnd.jupyter.widget-view+json": {
       "version_major": 2,
       "version_minor": 0,
       "model_id": "378b7a9ef4fd49deb667376107fde632"
      }
     },
     "metadata": {},
     "output_type": "display_data"
    },
    {
     "data": {
      "text/plain": [
       "Validation: |          | 0/? [00:00<?, ?it/s]"
      ],
      "application/vnd.jupyter.widget-view+json": {
       "version_major": 2,
       "version_minor": 0,
       "model_id": "ac009912ccea4df6bed5d845ec0f6a9d"
      }
     },
     "metadata": {},
     "output_type": "display_data"
    },
    {
     "data": {
      "text/plain": [
       "Validation: |          | 0/? [00:00<?, ?it/s]"
      ],
      "application/vnd.jupyter.widget-view+json": {
       "version_major": 2,
       "version_minor": 0,
       "model_id": "646091959c174277bca9b2353aad039c"
      }
     },
     "metadata": {},
     "output_type": "display_data"
    },
    {
     "data": {
      "text/plain": [
       "Validation: |          | 0/? [00:00<?, ?it/s]"
      ],
      "application/vnd.jupyter.widget-view+json": {
       "version_major": 2,
       "version_minor": 0,
       "model_id": "8ed08feabaaf4dfd86f4d7121e70517b"
      }
     },
     "metadata": {},
     "output_type": "display_data"
    },
    {
     "data": {
      "text/plain": [
       "Validation: |          | 0/? [00:00<?, ?it/s]"
      ],
      "application/vnd.jupyter.widget-view+json": {
       "version_major": 2,
       "version_minor": 0,
       "model_id": "74e6050138f7426b88a85ece22ddaa1f"
      }
     },
     "metadata": {},
     "output_type": "display_data"
    },
    {
     "data": {
      "text/plain": [
       "Validation: |          | 0/? [00:00<?, ?it/s]"
      ],
      "application/vnd.jupyter.widget-view+json": {
       "version_major": 2,
       "version_minor": 0,
       "model_id": "f246f8230d284b55bd4e62325e5b5a89"
      }
     },
     "metadata": {},
     "output_type": "display_data"
    },
    {
     "data": {
      "text/plain": [
       "Validation: |          | 0/? [00:00<?, ?it/s]"
      ],
      "application/vnd.jupyter.widget-view+json": {
       "version_major": 2,
       "version_minor": 0,
       "model_id": "053ae900b30e4d96867be20368254dd4"
      }
     },
     "metadata": {},
     "output_type": "display_data"
    },
    {
     "data": {
      "text/plain": [
       "Validation: |          | 0/? [00:00<?, ?it/s]"
      ],
      "application/vnd.jupyter.widget-view+json": {
       "version_major": 2,
       "version_minor": 0,
       "model_id": "b53b8904b7174ad39c1099304974e9c0"
      }
     },
     "metadata": {},
     "output_type": "display_data"
    },
    {
     "data": {
      "text/plain": [
       "Validation: |          | 0/? [00:00<?, ?it/s]"
      ],
      "application/vnd.jupyter.widget-view+json": {
       "version_major": 2,
       "version_minor": 0,
       "model_id": "c0c3c171615e40d6a42367776ba4f430"
      }
     },
     "metadata": {},
     "output_type": "display_data"
    },
    {
     "data": {
      "text/plain": [
       "Validation: |          | 0/? [00:00<?, ?it/s]"
      ],
      "application/vnd.jupyter.widget-view+json": {
       "version_major": 2,
       "version_minor": 0,
       "model_id": "8e2fde354fdd44e78ddb890c1b28f6ff"
      }
     },
     "metadata": {},
     "output_type": "display_data"
    },
    {
     "data": {
      "text/plain": [
       "Validation: |          | 0/? [00:00<?, ?it/s]"
      ],
      "application/vnd.jupyter.widget-view+json": {
       "version_major": 2,
       "version_minor": 0,
       "model_id": "d894e15ce5bb4417a0a4d7aef75e6aa7"
      }
     },
     "metadata": {},
     "output_type": "display_data"
    },
    {
     "data": {
      "text/plain": [
       "Validation: |          | 0/? [00:00<?, ?it/s]"
      ],
      "application/vnd.jupyter.widget-view+json": {
       "version_major": 2,
       "version_minor": 0,
       "model_id": "8b5bb7ccd1ad4575b86c9977db7b7d3c"
      }
     },
     "metadata": {},
     "output_type": "display_data"
    },
    {
     "data": {
      "text/plain": [
       "Validation: |          | 0/? [00:00<?, ?it/s]"
      ],
      "application/vnd.jupyter.widget-view+json": {
       "version_major": 2,
       "version_minor": 0,
       "model_id": "0f7ad06270a94237895a96c0779dd26d"
      }
     },
     "metadata": {},
     "output_type": "display_data"
    },
    {
     "data": {
      "text/plain": [
       "Validation: |          | 0/? [00:00<?, ?it/s]"
      ],
      "application/vnd.jupyter.widget-view+json": {
       "version_major": 2,
       "version_minor": 0,
       "model_id": "5ebe4d33388c465c84d503a0c345c808"
      }
     },
     "metadata": {},
     "output_type": "display_data"
    },
    {
     "data": {
      "text/plain": [
       "Validation: |          | 0/? [00:00<?, ?it/s]"
      ],
      "application/vnd.jupyter.widget-view+json": {
       "version_major": 2,
       "version_minor": 0,
       "model_id": "ef1dd157296249e4869a5446ff8c3311"
      }
     },
     "metadata": {},
     "output_type": "display_data"
    },
    {
     "data": {
      "text/plain": [
       "Validation: |          | 0/? [00:00<?, ?it/s]"
      ],
      "application/vnd.jupyter.widget-view+json": {
       "version_major": 2,
       "version_minor": 0,
       "model_id": "1154781ca07741178737020a675f6f69"
      }
     },
     "metadata": {},
     "output_type": "display_data"
    },
    {
     "data": {
      "text/plain": [
       "Validation: |          | 0/? [00:00<?, ?it/s]"
      ],
      "application/vnd.jupyter.widget-view+json": {
       "version_major": 2,
       "version_minor": 0,
       "model_id": "e63657b7d2e74971a7c8a452b8ea190b"
      }
     },
     "metadata": {},
     "output_type": "display_data"
    },
    {
     "data": {
      "text/plain": [
       "Validation: |          | 0/? [00:00<?, ?it/s]"
      ],
      "application/vnd.jupyter.widget-view+json": {
       "version_major": 2,
       "version_minor": 0,
       "model_id": "fa001e6da6a94985b17c5758d7d735f5"
      }
     },
     "metadata": {},
     "output_type": "display_data"
    },
    {
     "data": {
      "text/plain": [
       "Validation: |          | 0/? [00:00<?, ?it/s]"
      ],
      "application/vnd.jupyter.widget-view+json": {
       "version_major": 2,
       "version_minor": 0,
       "model_id": "901dcf837e004d8892516b074b4b378f"
      }
     },
     "metadata": {},
     "output_type": "display_data"
    },
    {
     "data": {
      "text/plain": [
       "Validation: |          | 0/? [00:00<?, ?it/s]"
      ],
      "application/vnd.jupyter.widget-view+json": {
       "version_major": 2,
       "version_minor": 0,
       "model_id": "3ae748e70dac4da3885467e9d04c3889"
      }
     },
     "metadata": {},
     "output_type": "display_data"
    },
    {
     "data": {
      "text/plain": [
       "Validation: |          | 0/? [00:00<?, ?it/s]"
      ],
      "application/vnd.jupyter.widget-view+json": {
       "version_major": 2,
       "version_minor": 0,
       "model_id": "5b92dc29985c466ba48c30d59b7e90a5"
      }
     },
     "metadata": {},
     "output_type": "display_data"
    },
    {
     "data": {
      "text/plain": [
       "Validation: |          | 0/? [00:00<?, ?it/s]"
      ],
      "application/vnd.jupyter.widget-view+json": {
       "version_major": 2,
       "version_minor": 0,
       "model_id": "d781e07553b240eabb81cc7e52d0b04a"
      }
     },
     "metadata": {},
     "output_type": "display_data"
    },
    {
     "data": {
      "text/plain": [
       "Validation: |          | 0/? [00:00<?, ?it/s]"
      ],
      "application/vnd.jupyter.widget-view+json": {
       "version_major": 2,
       "version_minor": 0,
       "model_id": "35340da631bf4c4993284459f7a24b3b"
      }
     },
     "metadata": {},
     "output_type": "display_data"
    },
    {
     "data": {
      "text/plain": [
       "Validation: |          | 0/? [00:00<?, ?it/s]"
      ],
      "application/vnd.jupyter.widget-view+json": {
       "version_major": 2,
       "version_minor": 0,
       "model_id": "0bd8e8fdec364fae8a6cfdfc34973636"
      }
     },
     "metadata": {},
     "output_type": "display_data"
    },
    {
     "data": {
      "text/plain": [
       "Validation: |          | 0/? [00:00<?, ?it/s]"
      ],
      "application/vnd.jupyter.widget-view+json": {
       "version_major": 2,
       "version_minor": 0,
       "model_id": "f484a6a9fbfa4b11bd84cde49a5073ca"
      }
     },
     "metadata": {},
     "output_type": "display_data"
    },
    {
     "data": {
      "text/plain": [
       "Validation: |          | 0/? [00:00<?, ?it/s]"
      ],
      "application/vnd.jupyter.widget-view+json": {
       "version_major": 2,
       "version_minor": 0,
       "model_id": "1353dff52062461ebc6859999c609939"
      }
     },
     "metadata": {},
     "output_type": "display_data"
    },
    {
     "data": {
      "text/plain": [
       "Validation: |          | 0/? [00:00<?, ?it/s]"
      ],
      "application/vnd.jupyter.widget-view+json": {
       "version_major": 2,
       "version_minor": 0,
       "model_id": "2233a9df41e44caeb50ce22ea62730f5"
      }
     },
     "metadata": {},
     "output_type": "display_data"
    },
    {
     "data": {
      "text/plain": [
       "Validation: |          | 0/? [00:00<?, ?it/s]"
      ],
      "application/vnd.jupyter.widget-view+json": {
       "version_major": 2,
       "version_minor": 0,
       "model_id": "825d0fa18c9a4b13b80cfbcd758fce6e"
      }
     },
     "metadata": {},
     "output_type": "display_data"
    },
    {
     "data": {
      "text/plain": [
       "Validation: |          | 0/? [00:00<?, ?it/s]"
      ],
      "application/vnd.jupyter.widget-view+json": {
       "version_major": 2,
       "version_minor": 0,
       "model_id": "fe23c8087af94b8fa86387956ff527d3"
      }
     },
     "metadata": {},
     "output_type": "display_data"
    },
    {
     "data": {
      "text/plain": [
       "Validation: |          | 0/? [00:00<?, ?it/s]"
      ],
      "application/vnd.jupyter.widget-view+json": {
       "version_major": 2,
       "version_minor": 0,
       "model_id": "ad21e38c1a2e48a49324fbd3a0c9b99f"
      }
     },
     "metadata": {},
     "output_type": "display_data"
    },
    {
     "data": {
      "text/plain": [
       "Validation: |          | 0/? [00:00<?, ?it/s]"
      ],
      "application/vnd.jupyter.widget-view+json": {
       "version_major": 2,
       "version_minor": 0,
       "model_id": "ef781d08dffd4d338ec0646d8f23e1d5"
      }
     },
     "metadata": {},
     "output_type": "display_data"
    },
    {
     "data": {
      "text/plain": [
       "Validation: |          | 0/? [00:00<?, ?it/s]"
      ],
      "application/vnd.jupyter.widget-view+json": {
       "version_major": 2,
       "version_minor": 0,
       "model_id": "82d7141e9e0746b4bdfb9728fd82244f"
      }
     },
     "metadata": {},
     "output_type": "display_data"
    },
    {
     "data": {
      "text/plain": [
       "Validation: |          | 0/? [00:00<?, ?it/s]"
      ],
      "application/vnd.jupyter.widget-view+json": {
       "version_major": 2,
       "version_minor": 0,
       "model_id": "9500a80717534cc7b581900394200342"
      }
     },
     "metadata": {},
     "output_type": "display_data"
    },
    {
     "data": {
      "text/plain": [
       "Validation: |          | 0/? [00:00<?, ?it/s]"
      ],
      "application/vnd.jupyter.widget-view+json": {
       "version_major": 2,
       "version_minor": 0,
       "model_id": "d33bc0d0e058438b9eb7bf567fff4347"
      }
     },
     "metadata": {},
     "output_type": "display_data"
    },
    {
     "data": {
      "text/plain": [
       "Validation: |          | 0/? [00:00<?, ?it/s]"
      ],
      "application/vnd.jupyter.widget-view+json": {
       "version_major": 2,
       "version_minor": 0,
       "model_id": "58ba4a6ab3da4fb6918072e0de861109"
      }
     },
     "metadata": {},
     "output_type": "display_data"
    },
    {
     "data": {
      "text/plain": [
       "Validation: |          | 0/? [00:00<?, ?it/s]"
      ],
      "application/vnd.jupyter.widget-view+json": {
       "version_major": 2,
       "version_minor": 0,
       "model_id": "30e3c1b1182c49188a725518a0cba48e"
      }
     },
     "metadata": {},
     "output_type": "display_data"
    },
    {
     "data": {
      "text/plain": [
       "Validation: |          | 0/? [00:00<?, ?it/s]"
      ],
      "application/vnd.jupyter.widget-view+json": {
       "version_major": 2,
       "version_minor": 0,
       "model_id": "df9f8f8ff9a64c3f9fb11415bd6f73a8"
      }
     },
     "metadata": {},
     "output_type": "display_data"
    },
    {
     "data": {
      "text/plain": [
       "Validation: |          | 0/? [00:00<?, ?it/s]"
      ],
      "application/vnd.jupyter.widget-view+json": {
       "version_major": 2,
       "version_minor": 0,
       "model_id": "55fbe9b7e6ca44578086aa7cf47a28f6"
      }
     },
     "metadata": {},
     "output_type": "display_data"
    },
    {
     "data": {
      "text/plain": [
       "Validation: |          | 0/? [00:00<?, ?it/s]"
      ],
      "application/vnd.jupyter.widget-view+json": {
       "version_major": 2,
       "version_minor": 0,
       "model_id": "f2e4a5f226294f3081227e72fe475f16"
      }
     },
     "metadata": {},
     "output_type": "display_data"
    },
    {
     "data": {
      "text/plain": [
       "Validation: |          | 0/? [00:00<?, ?it/s]"
      ],
      "application/vnd.jupyter.widget-view+json": {
       "version_major": 2,
       "version_minor": 0,
       "model_id": "04a8d7cd2e5d4a0ca71fcbf13f96ab44"
      }
     },
     "metadata": {},
     "output_type": "display_data"
    },
    {
     "data": {
      "text/plain": [
       "Validation: |          | 0/? [00:00<?, ?it/s]"
      ],
      "application/vnd.jupyter.widget-view+json": {
       "version_major": 2,
       "version_minor": 0,
       "model_id": "5c94f7c6c4dc443cb1e91d23b505a75a"
      }
     },
     "metadata": {},
     "output_type": "display_data"
    },
    {
     "data": {
      "text/plain": [
       "Validation: |          | 0/? [00:00<?, ?it/s]"
      ],
      "application/vnd.jupyter.widget-view+json": {
       "version_major": 2,
       "version_minor": 0,
       "model_id": "cc0c61e5f0bd435eb4eea486ecd77ddc"
      }
     },
     "metadata": {},
     "output_type": "display_data"
    },
    {
     "data": {
      "text/plain": [
       "Validation: |          | 0/? [00:00<?, ?it/s]"
      ],
      "application/vnd.jupyter.widget-view+json": {
       "version_major": 2,
       "version_minor": 0,
       "model_id": "a3136380f98147f7baf9103f47321489"
      }
     },
     "metadata": {},
     "output_type": "display_data"
    },
    {
     "data": {
      "text/plain": [
       "Validation: |          | 0/? [00:00<?, ?it/s]"
      ],
      "application/vnd.jupyter.widget-view+json": {
       "version_major": 2,
       "version_minor": 0,
       "model_id": "479b7eb25c6c47aba21acd64700767b9"
      }
     },
     "metadata": {},
     "output_type": "display_data"
    },
    {
     "data": {
      "text/plain": [
       "Validation: |          | 0/? [00:00<?, ?it/s]"
      ],
      "application/vnd.jupyter.widget-view+json": {
       "version_major": 2,
       "version_minor": 0,
       "model_id": "0de1c4d4dce9488f8d69bc783beba3f9"
      }
     },
     "metadata": {},
     "output_type": "display_data"
    },
    {
     "data": {
      "text/plain": [
       "Validation: |          | 0/? [00:00<?, ?it/s]"
      ],
      "application/vnd.jupyter.widget-view+json": {
       "version_major": 2,
       "version_minor": 0,
       "model_id": "f35d5e37b692416c99aa70c169013906"
      }
     },
     "metadata": {},
     "output_type": "display_data"
    },
    {
     "name": "stderr",
     "output_type": "stream",
     "text": [
      "`Trainer.fit` stopped: `max_epochs=50` reached.\n"
     ]
    }
   ],
   "execution_count": 15
  },
  {
   "metadata": {
    "ExecuteTime": {
     "end_time": "2024-09-23T13:49:34.770992Z",
     "start_time": "2024-09-23T13:49:34.507876Z"
    }
   },
   "cell_type": "code",
   "source": [
    "# Load the best model from the checkpoint\n",
    "best_model = GazeRNN.load_from_checkpoint(\n",
    "    checkpoint_callback.best_model_path,\n",
    "    input_size=INPUT_SIZE,\n",
    "    hidden_size=HIDDEN_SIZE,\n",
    "    num_layers=NUM_LAYERS,\n",
    "    num_classes=NUM_CLASSES,\n",
    "    rnn_type=MODEL_TYPE,\n",
    "    dropout=DROPOUT,\n",
    "    learning_rate=LEARNING_RATE,\n",
    "    opt_step_size=OPT_STEP_SIZE,\n",
    "    opt_gamma=OPT_GAMMA\n",
    ")\n",
    "\n",
    "# Predict on the validation set and set device to GPU\n",
    "device = torch.device('cuda' if torch.cuda.is_available() else 'cpu')\n",
    "best_model.to(device)\n",
    "best_model.eval()\n",
    "\n",
    "# Initialize the DataLoader for the validation set\n",
    "val_loader = data_module.val_dataloader()\n",
    "\n",
    "# Predict on the validation set\n",
    "y_true = []\n",
    "y_pred = []\n",
    "for inputs, labels in val_loader:\n",
    "    inputs = inputs.to(device)\n",
    "    labels = labels.to(device)\n",
    "    outputs = best_model(inputs)\n",
    "    _, predicted = torch.max(outputs, 1)\n",
    "    y_true.extend(labels.cpu().numpy())\n",
    "    y_pred.extend(predicted.cpu().numpy())\n",
    "    \n",
    "# Calculate the accuracy\n",
    "accuracy = np.mean(np.array(y_true) == np.array(y_pred))\n",
    "print(f\"Validation Accuracy: {accuracy}\")"
   ],
   "id": "5885d90115cd851b",
   "outputs": [
    {
     "name": "stdout",
     "output_type": "stream",
     "text": [
      "Validation Accuracy: 0.8272357723577236\n"
     ]
    }
   ],
   "execution_count": 13
  },
  {
   "metadata": {
    "ExecuteTime": {
     "end_time": "2024-09-23T13:49:35.439984Z",
     "start_time": "2024-09-23T13:49:34.865781Z"
    }
   },
   "cell_type": "code",
   "source": [
    "# Plot the confusion matrix\n",
    "import matplotlib.pyplot as plt\n",
    "from sklearn.metrics import confusion_matrix, accuracy_score\n",
    "import seaborn as sns\n",
    "\n",
    "cm = confusion_matrix(y_true, y_pred)\n",
    "plt.figure(figsize=(8, 6))\n",
    "sns.heatmap(cm, annot=True, fmt='d', xticklabels=GazeDataset.CLASS_MAP.keys(), yticklabels=GazeDataset.CLASS_MAP.keys(), cmap='Blues')\n",
    "plt.xlabel('Predicted')\n",
    "plt.ylabel('True')\n",
    "plt.title('Confusion Matrix')\n",
    "plt.show()"
   ],
   "id": "20bc6b132cb9c6ab",
   "outputs": [
    {
     "data": {
      "text/plain": [
       "<Figure size 800x600 with 2 Axes>"
      ],
      "image/png": "[encoded data removed]"
     },
     "metadata": {},
     "output_type": "display_data"
    }
   ],
   "execution_count": 14
  },
  {
   "metadata": {
    "ExecuteTime": {
     "end_time": "2024-09-23T13:49:35.481084Z",
     "start_time": "2024-09-23T13:49:35.478496Z"
    }
   },
   "cell_type": "code",
   "source": "",
   "id": "7c30defb8c8a73b3",
   "outputs": [],
   "execution_count": null
  }
 ],
 "metadata": {
  "kernelspec": {
   "display_name": "Python 3",
   "language": "python",
   "name": "python3"
  },
  "language_info": {
   "codemirror_mode": {
    "name": "ipython",
    "version": 2
   },
   "file_extension": ".py",
   "mimetype": "text/x-python",
   "name": "python",
   "nbconvert_exporter": "python",
   "pygments_lexer": "ipython2",
   "version": "2.7.6"
  }
 },
 "nbformat": 4,
 "nbformat_minor": 5
}
