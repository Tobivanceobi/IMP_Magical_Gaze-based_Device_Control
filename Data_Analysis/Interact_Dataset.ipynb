{
 "cells": [
  {
   "metadata": {
    "ExecuteTime": {
     "end_time": "2024-11-03T17:49:01.368656Z",
     "start_time": "2024-11-03T17:49:01.362522Z"
    }
   },
   "cell_type": "code",
   "source": [
    "import numpy as np\n",
    "from networkx.algorithms.approximation.distance_measures import diameter\n",
    "\n",
    "\n",
    "class Config:\n",
    "    FIREBASE_CRED_PATH = '../.local/firebase/firebase-adminsdk.json'\n",
    "    FIREBASE_CONFIG_PATH = '../.local/firebase/firebase_config.json'\n",
    "    \n",
    "conf = Config()"
   ],
   "id": "4d7afb991c55ee2a",
   "outputs": [],
   "execution_count": 2
  },
  {
   "cell_type": "code",
   "id": "initial_id",
   "metadata": {
    "collapsed": true,
    "ExecuteTime": {
     "end_time": "2024-11-01T12:43:22.479392Z",
     "start_time": "2024-11-01T12:43:22.121238Z"
    }
   },
   "source": [
    "import firebase_admin\n",
    "from firebase_admin import credentials, firestore\n",
    "\n",
    "\n",
    "class FirebaseService:\n",
    "    DATASET_COLLECTION = 'gaze_data'\n",
    "    GAZE_COLLECTION = 'gaze_points'\n",
    "    def __init__(self):\n",
    "        if not firebase_admin._apps:\n",
    "            cred = credentials.Certificate(Config.FIREBASE_CRED_PATH)\n",
    "            firebase_admin.initialize_app(cred)\n",
    "        self.db = firestore.client()\n",
    "        \n",
    "    def get_documents(self):\n",
    "        collection_ref = self.db.collection(self.DATASET_COLLECTION)\n",
    "        docs = collection_ref.stream()\n",
    "        \n",
    "        docs_set = []\n",
    "        for i, doc in enumerate(docs):\n",
    "            doc_dict = doc.to_dict()\n",
    "            doc_dict['id'] = doc.id\n",
    "            docs_set.append(doc_dict)\n",
    "            \n",
    "        return docs_set\n",
    "\n",
    "    def get_gaze_from_document(self, document_id):\n",
    "        collection_ref = self.db.collection(self.DATASET_COLLECTION)\n",
    "        doc_ref = collection_ref.document(document_id)\n",
    "        collection = doc_ref.collection(self.GAZE_COLLECTION)\n",
    "        docs = collection.stream()\n",
    "        docs = [doc.to_dict() for doc in docs]\n",
    "        return docs"
   ],
   "outputs": [],
   "execution_count": 2
  },
  {
   "metadata": {
    "ExecuteTime": {
     "end_time": "2024-11-01T12:44:27.204654Z",
     "start_time": "2024-11-01T12:43:23.676325Z"
    }
   },
   "cell_type": "code",
   "source": [
    "import pprint\n",
    "\n",
    "firebase_service = FirebaseService()\n",
    "data_docs = firebase_service.get_documents()\n",
    "\n",
    "docs_0 = [doc for doc in data_docs if doc['task'] == 'No Interaction']\n",
    "docs_1 = [doc for doc in data_docs if doc['task'] == 'Interact']\n",
    "print(f'No Interaction: {len(docs_0)}')\n",
    "print(f'Interaction: {len(docs_1)}')\n",
    "\n",
    "gaze_0 = firebase_service.get_gaze_from_document(docs_0[2]['id'])\n",
    "gaze_1 = firebase_service.get_gaze_from_document(docs_1[2]['id'])\n",
    "pprint.pprint(gaze_0[0])"
   ],
   "id": "4cea0648998aec23",
   "outputs": [
    {
     "name": "stderr",
     "output_type": "stream",
     "text": [
      "\n",
      "KeyboardInterrupt\n",
      "\n"
     ]
    }
   ],
   "execution_count": 3
  },
  {
   "metadata": {},
   "cell_type": "code",
   "source": [
    "import matplotlib.pyplot as plt\n",
    "\n",
    "def get_diameter_values(gaze_points):\n",
    "    diameter_values = []\n",
    "    for gaze_point in gaze_points:\n",
    "        if len(gaze_point['base_data']) != 2:\n",
    "            diameter_values.append([np.nan, np.nan])\n",
    "            continue\n",
    "        d_left = gaze_point['base_data'][0]['diameter']\n",
    "        d_right = gaze_point['base_data'][1]['diameter']\n",
    "        diameter_values.append([d_left, d_right])\n",
    "    return np.array(diameter_values)\n",
    "\n",
    "def get_timestamps(gaze_points):\n",
    "    timestamps = []\n",
    "    for gaze_point in gaze_points:\n",
    "        timestamps.append(gaze_point['timestamp'])\n",
    "    return np.array(timestamps)\n",
    "\n"
   ],
   "id": "5302b9c3223afdfb",
   "outputs": [],
   "execution_count": null
  },
  {
   "metadata": {},
   "cell_type": "code",
   "source": [
    "means_0 = []\n",
    "means_1 = []\n",
    "for doc in docs_0:\n",
    "    gaze = firebase_service.get_gaze_from_document(doc['id'])\n",
    "    print(doc)\n",
    "    if len(gaze) == 840:\n",
    "        diameters = get_diameter_values(gaze)[:, 0]\n",
    "        means_0.append(np.nanmean(diameters))\n",
    "\n",
    "for doc in docs_1:\n",
    "    gaze = firebase_service.get_gaze_from_document(doc['id'])\n",
    "    print(doc)\n",
    "    if len(gaze) == 840:\n",
    "        diameters = get_diameter_values(gaze)[:, 0]\n",
    "        means_1.append(np.nanmean(diameters))"
   ],
   "id": "dfc2b0a57de84e6",
   "outputs": [],
   "execution_count": null
  },
  {
   "metadata": {},
   "cell_type": "code",
   "source": [
    "plt.scatter(range(len(means_0)), means_0, label='No Interaction')\n",
    "plt.scatter(range(len(means_1)), means_1, label='Interaction')\n",
    "plt.title('Mean Diameter values')\n",
    "plt.legend()\n",
    "plt.show()"
   ],
   "id": "8669f599e0b37e59",
   "outputs": [],
   "execution_count": null
  },
  {
   "metadata": {},
   "cell_type": "code",
   "source": [
    "diameters_0 = get_diameter_values(gaze_0)[:, 0]\n",
    "timestamps_0 = get_timestamps(gaze_0)\n",
    "\n",
    "timestamps_0, diameters_0 = zip(*sorted(zip(timestamps_0, diameters_0)))\n",
    "timestamps_0 = timestamps_0 - timestamps_0[0]\n",
    "\n",
    "diameters_1 = get_diameter_values(gaze_1)[:, 0]\n",
    "timestamps_1 = get_timestamps(gaze_1)\n",
    "\n",
    "timestamps_1, diameters_1 = zip(*sorted(zip(timestamps_1, diameters_1)))\n",
    "timestamps_1 = timestamps_1 - timestamps_1[0]\n",
    "\n",
    "plt.plot(timestamps_0, diameters_0, label='No Interaction')\n",
    "mean_diameter_0 = np.nanmean(diameters_0)\n",
    "plt.axhline(y=mean_diameter_0, color='r', linestyle='--')\n",
    "\n",
    "plt.plot(timestamps_1, diameters_1, label='Interaction')\n",
    "mean_diameter_1 = np.nanmean(diameters_1)\n",
    "plt.axhline(y=mean_diameter_1, color='g', linestyle='--')\n",
    "\n",
    "plt.title('Mean (left, right) Diameter values')\n",
    "plt.legend()\n",
    "plt.show()"
   ],
   "id": "c430512b7ac2d995",
   "outputs": [],
   "execution_count": null
  }
 ],
 "metadata": {
  "kernelspec": {
   "display_name": "Python 3",
   "language": "python",
   "name": "python3"
  },
  "language_info": {
   "codemirror_mode": {
    "name": "ipython",
    "version": 2
   },
   "file_extension": ".py",
   "mimetype": "text/x-python",
   "name": "python",
   "nbconvert_exporter": "python",
   "pygments_lexer": "ipython2",
   "version": "2.7.6"
  }
 },
 "nbformat": 4,
 "nbformat_minor": 5
}
