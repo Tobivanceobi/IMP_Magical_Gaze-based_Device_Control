{
 "cells": [
  {
   "cell_type": "code",
   "id": "initial_id",
   "metadata": {
    "collapsed": true,
    "ExecuteTime": {
     "end_time": "2025-01-11T13:35:15.512903Z",
     "start_time": "2025-01-11T13:35:15.483830Z"
    }
   },
   "source": [
    "import zmq\n",
    "\n",
    "ctx = zmq.Context()\n",
    "# The REQ talks to Pupil remote and receives the session unique IPC SUB PORT\n",
    "socket = ctx.socket(zmq.REQ)\n",
    "\n",
    "ip = 'localhost'\n",
    "port = 50020\n",
    "\n",
    "socket.connect(f'tcp://{ip}:{port}')\n",
    "\n",
    "# Request 'SUB_PORT' for reading data\n",
    "socket.send_string('SUB_PORT')\n",
    "sub_port = socket.recv_string()\n",
    "\n",
    "# Request 'PUB_PORT' for writing data\n",
    "socket.send_string('PUB_PORT')\n",
    "pub_port = socket.recv_string()\n",
    "\n",
    "socket.close()"
   ],
   "outputs": [],
   "execution_count": 1
  },
  {
   "metadata": {
    "ExecuteTime": {
     "end_time": "2025-01-11T13:35:15.542980Z",
     "start_time": "2025-01-11T13:35:15.527878Z"
    }
   },
   "cell_type": "code",
   "source": [
    "def create_socket(ctx_c, ip_c, topics):\n",
    "    sub = ctx_c.socket(zmq.SUB)\n",
    "    sub.connect(f'tcp://{ip_c}:{sub_port}')\n",
    "    for topic in topics:\n",
    "        sub.subscribe(topic)\n",
    "    return sub\n",
    "\n",
    "def update_screen(gaze_point, ost):\n",
    "    gaze_point = np.array(gaze_point)\n",
    "    gaze_point -= ost\n",
    "    gaze_point = (\n",
    "        screen_width - int(gaze_point[0] * screen_width),\n",
    "        screen_height - int((1 - gaze_point[1]) * screen_height)\n",
    "    )\n",
    "    pygame.draw.circle(screen, RED, gaze_point, dot_radius // 2)\n",
    "    pygame.display.flip()"
   ],
   "id": "72562d76caa74d9e",
   "outputs": [],
   "execution_count": 2
  },
  {
   "metadata": {
    "ExecuteTime": {
     "end_time": "2025-01-11T13:35:15.909624Z",
     "start_time": "2025-01-11T13:35:15.895313Z"
    }
   },
   "cell_type": "code",
   "source": [
    "# Colors\n",
    "WHITE = (255, 255, 255)\n",
    "RED = (255, 0, 0)\n",
    "BLUE = (0, 0, 255)\n",
    "\n",
    "dot_radius = 10\n",
    "screen_size = (400, 400)"
   ],
   "id": "6d7f551ef6d16a25",
   "outputs": [],
   "execution_count": 3
  },
  {
   "metadata": {
    "ExecuteTime": {
     "end_time": "2025-01-11T13:52:18.477743Z",
     "start_time": "2025-01-11T13:52:18.448273Z"
    }
   },
   "cell_type": "code",
   "source": [
    "import numpy as np\n",
    "\n",
    "class SaccadeGestureDetector:\n",
    "    def __init__(self, origin_pos, start_timestamp, dist_max=0.3, dist_min=0.1, max_monitor_time=0.0005):\n",
    "        \"\"\"\n",
    "        Initialize the detector with origin position, timestamp, and distance thresholds.\n",
    "\n",
    "        :param origin_pos: The origin position (x, y) for the saccade gesture.\n",
    "        :param start_timestamp: The timestamp when the gesture detection started.\n",
    "        :param dist_max: Maximum distance from the origin for detecting a saccade.\n",
    "        :param dist_min: Minimum distance to consider the gaze returned.\n",
    "        \"\"\"\n",
    "        self.dist_max = dist_max\n",
    "        self.dist_min = dist_min\n",
    "        self.start_timestamp = start_timestamp\n",
    "        self.origin_pos = np.array(origin_pos)\n",
    "\n",
    "        self.gaze_point_buffer = []\n",
    "        self.direction = None\n",
    "        self.gaze_outside_origin = False\n",
    "        self.finished = False\n",
    "        self.max_monitor_time = max_monitor_time\n",
    "\n",
    "    def check_origin_max_distance(self, gaze_point):\n",
    "        \"\"\"\n",
    "        Check if the gaze point is within the maximum distance from the origin.\n",
    "        \"\"\"\n",
    "        o_dist = np.linalg.norm(np.array(gaze_point) - self.origin_pos)\n",
    "        return o_dist > self.dist_max\n",
    "\n",
    "    def check_origin_min_distance(self, gaze_point):\n",
    "        \"\"\"\n",
    "        Check if the gaze point is outside the minimum distance from the origin.\n",
    "        \"\"\"\n",
    "        o_dist = np.linalg.norm(np.array(gaze_point) - self.origin_pos)\n",
    "        return o_dist < self.dist_min\n",
    "\n",
    "    def update(self, gaze_point, timestamp):\n",
    "        \"\"\"\n",
    "        Update the detector with a new gaze point and timestamp.\n",
    "\n",
    "        :param gaze_point: The current gaze position as [x, y].\n",
    "        :param timestamp: The current timestamp.\n",
    "        \"\"\"\n",
    "        if self.finished:\n",
    "            return  # Gesture detection is complete, no further processing\n",
    "\n",
    "        if self.check_origin_max_distance(gaze_point):\n",
    "            self.gaze_point_buffer.append(gaze_point)\n",
    "\n",
    "        if not self.gaze_outside_origin:\n",
    "            # Check if gaze moves outside the maximum distance\n",
    "            if self.check_origin_max_distance(gaze_point):\n",
    "                self.gaze_outside_origin = True  # Gaze moved outside the origin\n",
    "                self.monitor_start_time = timestamp\n",
    "        else:\n",
    "            if timestamp - self.monitor_start_time > self.max_monitor_time:\n",
    "                self.finished = True\n",
    "                self.direction = None  # Gesture timed out without returning\n",
    "                return\n",
    "\n",
    "            # Check if gaze returns within the minimum distance\n",
    "            if self.check_origin_min_distance(gaze_point):\n",
    "                mean_point = np.mean(self.gaze_point_buffer, axis=0)\n",
    "\n",
    "                print(mean_point, self.origin_pos)\n",
    "\n",
    "                delta = np.array(mean_point) - np.array(self.origin_pos)\n",
    "                angle = np.degrees(np.arctan2(delta[1], delta[0])) % 360\n",
    "\n",
    "                if 45 <= angle < 135:\n",
    "                    self.direction = 'up'\n",
    "                elif 135 <= angle < 225:\n",
    "                    self.direction = 'left'\n",
    "                elif 225 <= angle < 315:\n",
    "                    self.direction = 'down'\n",
    "                else:\n",
    "                    self.direction = 'right'\n",
    "\n",
    "                self.finished = True\n",
    "                return\n",
    "\n",
    "    def is_finished(self):\n",
    "        \"\"\"\n",
    "        Check if the gesture detection is finished.\n",
    "        \"\"\"\n",
    "        return self.finished\n",
    "\n",
    "    def get_direction(self):\n",
    "        \"\"\"\n",
    "        Get the direction of the detected gesture.\n",
    "        \"\"\"\n",
    "        return self.direction"
   ],
   "id": "5c986eb8f2b317f8",
   "outputs": [],
   "execution_count": 61
  },
  {
   "metadata": {
    "ExecuteTime": {
     "end_time": "2025-01-11T13:52:37.907542Z",
     "start_time": "2025-01-11T13:52:36.627410Z"
    }
   },
   "cell_type": "code",
   "source": [
    "import msgpack\n",
    "\n",
    "gaze_socket = create_socket(ctx, ip, ['fixation'])\n",
    "topic, payload = gaze_socket.recv_multipart()\n",
    "message = msgpack.loads(payload)\n",
    "gaze_socket.close()\n",
    "print(\"Fixation detected at:\", message['norm_pos'])\n",
    "origin = message['norm_pos']\n",
    "start_timestamp = message['timestamp']\n",
    "\n",
    "saccade_detector = SaccadeGestureDetector(origin, start_timestamp, dist_max=0.2, dist_min=0.05, max_monitor_time=0.5)\n",
    "\n",
    "gaze_socket = create_socket(ctx, ip, ['gaze.'])\n",
    "\n",
    "while not saccade_detector.is_finished():\n",
    "    topic, payload = gaze_socket.recv_multipart()\n",
    "    message = msgpack.loads(payload)\n",
    "    gaze_pos = message['norm_pos']\n",
    "    timestamp = message['timestamp']\n",
    "    saccade_detector.update(gaze_pos, timestamp)\n",
    "\n",
    "print(\"Saccade gesture detected:\", saccade_detector.get_direction())\n"
   ],
   "id": "8d106feaded4d09b",
   "outputs": [
    {
     "name": "stdout",
     "output_type": "stream",
     "text": [
      "Fixation detected at: [0.5703942590567914, 0.5551827900786656]\n",
      "[0.37688071 0.63361739] [0.57039426 0.55518279]\n",
      "Saccade gesture detected: left\n"
     ]
    }
   ],
   "execution_count": 66
  },
  {
   "metadata": {},
   "cell_type": "code",
   "outputs": [],
   "execution_count": null,
   "source": "",
   "id": "32c6a0b7a4166d7a"
  }
 ],
 "metadata": {
  "kernelspec": {
   "display_name": "Python 3",
   "language": "python",
   "name": "python3"
  },
  "language_info": {
   "codemirror_mode": {
    "name": "ipython",
    "version": 2
   },
   "file_extension": ".py",
   "mimetype": "text/x-python",
   "name": "python",
   "nbconvert_exporter": "python",
   "pygments_lexer": "ipython2",
   "version": "2.7.6"
  }
 },
 "nbformat": 4,
 "nbformat_minor": 5
}
