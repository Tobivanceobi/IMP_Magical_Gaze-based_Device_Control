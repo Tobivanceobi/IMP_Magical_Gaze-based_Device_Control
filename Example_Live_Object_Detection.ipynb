{
 "cells": [
  {
   "cell_type": "code",
   "execution_count": null,
   "id": "initial_id",
   "metadata": {
    "collapsed": true
   },
   "outputs": [],
   "source": [
    "import zmq\n",
    "ctx = zmq.Context()\n",
    "# The REQ talks to Pupil remote and receives the session unique IPC SUB PORT\n",
    "pupil_remote = ctx.socket(zmq.REQ)\n",
    "\n",
    "ip = 'localhost'  # If you talk to a different machine use its IP.\n",
    "port = 50020  # The port defaults to 50020. Set in Pupil Capture GUI.\n",
    "\n",
    "pupil_remote.connect(f'tcp://{ip}:{port}')\n",
    "\n",
    "# Request 'SUB_PORT' for reading data\n",
    "pupil_remote.send_string('SUB_PORT')\n",
    "sub_port = pupil_remote.recv_string()\n",
    "\n",
    "# Request 'PUB_PORT' for writing data\n",
    "pupil_remote.send_string('PUB_PORT')\n",
    "pub_port = pupil_remote.recv_string()"
   ]
  },
  {
   "metadata": {},
   "cell_type": "code",
   "outputs": [],
   "execution_count": null,
   "source": [
    "import cv2\n",
    "import numpy as np\n",
    "\n",
    "\n",
    "# Assumes `sub_port` to be set to the current subscription port\n",
    "subscriber = ctx.socket(zmq.SUB)\n",
    "subscriber.connect(f'tcp://{ip}:{sub_port}')\n",
    "subscriber.subscribe(\"frame.world\")  # receive all gaze messages\n",
    "\n",
    "frame = subscriber.recv_multipart()\n",
    "frame_data = frame[2]\n",
    "decoded_frame = cv2.imdecode(np.frombuffer(frame_data, dtype=np.uint8), cv2.IMREAD_COLOR)\n"
   ],
   "id": "91b265ae0ab20f2e"
  },
  {
   "metadata": {},
   "cell_type": "code",
   "outputs": [],
   "execution_count": null,
   "source": [
    "import inference\n",
    "\n",
    "model = inference.load_roboflow_model(\"yolov8n-640\")\n",
    "results = model.infer(image=\"YOUR_IMAGE.jpg\")"
   ],
   "id": "7a84087225459861"
  },
  {
   "metadata": {},
   "cell_type": "code",
   "outputs": [],
   "execution_count": null,
   "source": "",
   "id": "d078c44991b0c701"
  },
  {
   "metadata": {},
   "cell_type": "code",
   "outputs": [],
   "execution_count": null,
   "source": [
    "import matplotlib.pyplot as plt\n",
    "\n",
    "# Convert the color from BGR (OpenCV default) to RGB for proper display with matplotlib\n",
    "rgb_frame = cv2.cvtColor(decoded_frame, cv2.COLOR_BGR2RGB)\n",
    "\n",
    "# Display the image using matplotlib\n",
    "plt.imshow(rgb_frame)\n",
    "plt.axis('off')  # Hide axes for a cleaner display\n",
    "plt.show()"
   ],
   "id": "b18dc55b969487fe"
  }
 ],
 "metadata": {
  "kernelspec": {
   "display_name": "Python 3",
   "language": "python",
   "name": "python3"
  },
  "language_info": {
   "codemirror_mode": {
    "name": "ipython",
    "version": 2
   },
   "file_extension": ".py",
   "mimetype": "text/x-python",
   "name": "python",
   "nbconvert_exporter": "python",
   "pygments_lexer": "ipython2",
   "version": "2.7.6"
  }
 },
 "nbformat": 4,
 "nbformat_minor": 5
}
